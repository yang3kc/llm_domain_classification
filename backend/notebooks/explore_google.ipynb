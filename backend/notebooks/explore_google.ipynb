{
 "cells": [
  {
   "cell_type": "code",
   "execution_count": 1,
   "id": "fc929e57-55f6-4add-8a4c-150937f19e02",
   "metadata": {},
   "outputs": [],
   "source": [
    "import os\n",
    "from google import genai\n",
    "from dotenv import load_dotenv\n",
    "from google import genai\n",
    "from google.genai import types\n",
    "from llmdomainrating import *"
   ]
  },
  {
   "cell_type": "code",
   "execution_count": 2,
   "id": "0b6f6b4b-065a-44ec-ac01-dfb7fa4483b2",
   "metadata": {},
   "outputs": [
    {
     "data": {
      "text/plain": [
       "True"
      ]
     },
     "execution_count": 2,
     "metadata": {},
     "output_type": "execute_result"
    }
   ],
   "source": [
    "load_dotenv()"
   ]
  },
  {
   "cell_type": "code",
   "execution_count": 7,
   "id": "829942dc-ab4f-4a76-9b83-7462c7a31045",
   "metadata": {},
   "outputs": [],
   "source": [
    "client = genai.Client(api_key=os.getenv(\"GOOGLE_API_KEY\"))"
   ]
  },
  {
   "cell_type": "code",
   "execution_count": 14,
   "id": "e4d43663-61c6-46d7-99a3-aecf6ff26632",
   "metadata": {},
   "outputs": [],
   "source": [
    "model = \"gemini-2.0-flash-lite\"\n",
    "contents = [\n",
    "    types.Content(\n",
    "        role=\"user\",\n",
    "        parts=[\n",
    "            types.Part.from_text(text=\"\"\"Rate the website's credibility: xinhuanet.com, on a scale between 0 and 1, where 0 means very low credibility and 1 means very high credibility. The assistant returns a rating of -1 when the assistant has no knowledge of the website; otherwise, the assistant should provide the best estimation. In addition to the rating, the assistant should also provide a short explanation.\"\"\"),\n",
    "        ],\n",
    "    ),\n",
    "]\n",
    "generate_content_config = types.GenerateContentConfig(\n",
    "    temperature=0,\n",
    "    response_mime_type=\"application/json\",\n",
    "    response_schema=DomainRating,\n",
    "    system_instruction=[\n",
    "        types.Part.from_text(text=\"\"\"You are an assistant to determine the credibility of websites.\"\"\"),\n",
    "    ],\n",
    ")"
   ]
  },
  {
   "cell_type": "code",
   "execution_count": 15,
   "id": "cea23b8d-32fc-4b14-96d7-8a427839119e",
   "metadata": {},
   "outputs": [],
   "source": [
    "response = client.models.generate_content(\n",
    "    model=model,\n",
    "    contents=contents,\n",
    "    config=generate_content_config\n",
    ")"
   ]
  },
  {
   "cell_type": "code",
   "execution_count": 23,
   "id": "18a3005a-0663-4e1a-bbaf-a43378596816",
   "metadata": {},
   "outputs": [
    {
     "data": {
      "text/plain": [
       "'{\"candidates\":[{\"content\":{\"parts\":[{\"video_metadata\":null,\"thought\":null,\"code_execution_result\":null,\"executable_code\":null,\"file_data\":null,\"function_call\":null,\"function_response\":null,\"inline_data\":null,\"text\":\"{\\\\n  \\\\\"rating\\\\\": 0.8,\\\\n  \\\\\"domain\\\\\": \\\\\"xinhuanet.com\\\\\",\\\\n  \\\\\"explanation\\\\\": \\\\\"Xinhua is the official press agency of the People\\'s Republic of China. While it is a major news source, it is also state-controlled, which can affect its objectivity. Therefore, the credibility is high but not perfect.\\\\\"\\\\n}\"}],\"role\":\"model\"},\"citation_metadata\":null,\"finish_message\":null,\"token_count\":null,\"finish_reason\":\"STOP\",\"avg_logprobs\":-0.1072840504832082,\"grounding_metadata\":null,\"index\":null,\"logprobs_result\":null,\"safety_ratings\":null}],\"create_time\":null,\"response_id\":null,\"model_version\":\"gemini-2.0-flash-lite\",\"prompt_feedback\":null,\"usage_metadata\":{\"cache_tokens_details\":null,\"cached_content_token_count\":null,\"candidates_token_count\":77,\"candidates_tokens_details\":[{\"modality\":\"TEXT\",\"token_count\":77}],\"prompt_token_count\":132,\"prompt_tokens_details\":[{\"modality\":\"TEXT\",\"token_count\":132}],\"thoughts_token_count\":null,\"tool_use_prompt_token_count\":null,\"tool_use_prompt_tokens_details\":null,\"total_token_count\":209,\"traffic_type\":null},\"automatic_function_calling_history\":[],\"parsed\":{\"rating\":0.8,\"domain\":\"xinhuanet.com\",\"explanation\":\"Xinhua is the official press agency of the People\\'s Republic of China. While it is a major news source, it is also state-controlled, which can affect its objectivity. Therefore, the credibility is high but not perfect.\"}}'"
      ]
     },
     "execution_count": 23,
     "metadata": {},
     "output_type": "execute_result"
    }
   ],
   "source": [
    "response.model_dump_json()"
   ]
  },
  {
   "cell_type": "code",
   "execution_count": null,
   "id": "4e733141-158e-464f-a610-edd638809c81",
   "metadata": {},
   "outputs": [],
   "source": [
    "    model = \"gemini-2.0-flash-lite\"\n",
    "    contents = [\n",
    "        types.Content(\n",
    "            role=\"user\",\n",
    "            parts=[\n",
    "                types.Part.from_text(text=\"\"\"Rate the website's credibility: xinhuanet.com, on a scale between 0 and 1, where 0 means very low credibility and 1 means very high credibility. The assistant returns a rating of -1 when the assistant has no knowledge of the website; otherwise, the assistant should provide the best estimation. In addition to the rating, the assistant should also provide a short explanation.\"\"\"),\n",
    "            ],\n",
    "        ),\n",
    "    ]\n",
    "    generate_content_config = types.GenerateContentConfig(\n",
    "        temperature=0,\n",
    "        response_mime_type=\"application/json\",\n",
    "        system_instruction=[\n",
    "            types.Part.from_text(text=\"\"\"You are an assistant to determine the credibility of websites.\"\"\"),\n",
    "        ],\n",
    "    )\n",
    "\n",
    "    for chunk in client.models.generate_content_stream(\n",
    "        model=model,\n",
    "        contents=contents,\n",
    "        config=generate_content_config,\n",
    "    ):\n",
    "        print(chunk.text, end=\"\")\n",
    "\n",
    "if __name__ == \"__main__\":\n",
    "    generate()"
   ]
  },
  {
   "cell_type": "code",
   "execution_count": 3,
   "id": "fbe27c08-ef01-49a9-9498-e5a2565cc618",
   "metadata": {},
   "outputs": [],
   "source": [
    "my_client = create_api_client(\"google\")"
   ]
  },
  {
   "cell_type": "code",
   "execution_count": 4,
   "id": "5cea2c3c-aaaf-4dd0-95d2-faff2752685b",
   "metadata": {},
   "outputs": [],
   "source": [
    "resp_new = my_client.query_model(\"cnn.com\", \"gemini-2.0-flash-lite\")"
   ]
  },
  {
   "cell_type": "code",
   "execution_count": 6,
   "id": "91d56543-cace-4f14-b311-80320a039646",
   "metadata": {},
   "outputs": [
    {
     "data": {
      "text/plain": [
       "{'candidates': [{'content': {'parts': [{'video_metadata': None,\n",
       "      'thought': None,\n",
       "      'code_execution_result': None,\n",
       "      'executable_code': None,\n",
       "      'file_data': None,\n",
       "      'function_call': None,\n",
       "      'function_response': None,\n",
       "      'inline_data': None,\n",
       "      'text': '{\\n  \"rating\": 0.8,\\n  \"domain\": \"cnn.com\",\\n  \"explanation\": \"CNN is a well-known news organization with a long history. However, like all news sources, it can be subject to bias and errors. Therefore, the credibility is high but not perfect.\"\\n}'}],\n",
       "    'role': 'model'},\n",
       "   'citation_metadata': None,\n",
       "   'finish_message': None,\n",
       "   'token_count': None,\n",
       "   'finish_reason': 'STOP',\n",
       "   'avg_logprobs': -0.10013571907492246,\n",
       "   'grounding_metadata': None,\n",
       "   'index': None,\n",
       "   'logprobs_result': None,\n",
       "   'safety_ratings': None}],\n",
       " 'create_time': None,\n",
       " 'response_id': None,\n",
       " 'model_version': 'gemini-2.0-flash-lite',\n",
       " 'prompt_feedback': None,\n",
       " 'usage_metadata': {'cache_tokens_details': None,\n",
       "  'cached_content_token_count': None,\n",
       "  'candidates_token_count': 68,\n",
       "  'candidates_tokens_details': [{'modality': 'TEXT', 'token_count': 68}],\n",
       "  'prompt_token_count': 137,\n",
       "  'prompt_tokens_details': [{'modality': 'TEXT', 'token_count': 137}],\n",
       "  'thoughts_token_count': None,\n",
       "  'tool_use_prompt_token_count': None,\n",
       "  'tool_use_prompt_tokens_details': None,\n",
       "  'total_token_count': 205,\n",
       "  'traffic_type': None},\n",
       " 'automatic_function_calling_history': [],\n",
       " 'parsed': {'rating': 0.8,\n",
       "  'domain': 'cnn.com',\n",
       "  'explanation': 'CNN is a well-known news organization with a long history. However, like all news sources, it can be subject to bias and errors. Therefore, the credibility is high but not perfect.'}}"
      ]
     },
     "execution_count": 6,
     "metadata": {},
     "output_type": "execute_result"
    }
   ],
   "source": [
    "json.loads(resp_new)"
   ]
  },
  {
   "cell_type": "code",
   "execution_count": 8,
   "id": "9356c44e-289c-4033-998d-b7880c34ffcc",
   "metadata": {},
   "outputs": [],
   "source": [
    "with open(\"/Users/yangkc/working/llm/llm_domain_classification/data/intermediate/raw_responses/google/gemini-2.0-flash/ckom.com.txt\") as f:\n",
    "    gemini_resp = json.load(f)"
   ]
  },
  {
   "cell_type": "code",
   "execution_count": 10,
   "id": "4adea0a7-8895-46a4-9067-cc115c98a841",
   "metadata": {},
   "outputs": [
    {
     "data": {
      "text/plain": [
       "dict_keys(['candidates', 'create_time', 'response_id', 'model_version', 'prompt_feedback', 'usage_metadata', 'automatic_function_calling_history', 'parsed'])"
      ]
     },
     "execution_count": 10,
     "metadata": {},
     "output_type": "execute_result"
    }
   ],
   "source": [
    "gemini_resp.keys()"
   ]
  },
  {
   "cell_type": "code",
   "execution_count": 12,
   "id": "dce55c1d-5339-4d74-b6e0-f0828add6ddb",
   "metadata": {},
   "outputs": [
    {
     "data": {
      "text/plain": [
       "{'cache_tokens_details': None,\n",
       " 'cached_content_token_count': None,\n",
       " 'candidates_token_count': 42,\n",
       " 'candidates_tokens_details': [{'modality': 'TEXT', 'token_count': 42}],\n",
       " 'prompt_token_count': 138,\n",
       " 'prompt_tokens_details': [{'modality': 'TEXT', 'token_count': 138}],\n",
       " 'thoughts_token_count': None,\n",
       " 'tool_use_prompt_token_count': None,\n",
       " 'tool_use_prompt_tokens_details': None,\n",
       " 'total_token_count': 180,\n",
       " 'traffic_type': None}"
      ]
     },
     "execution_count": 12,
     "metadata": {},
     "output_type": "execute_result"
    }
   ],
   "source": [
    "gemini_resp['usage_metadata']"
   ]
  },
  {
   "cell_type": "code",
   "execution_count": 11,
   "id": "ce527324-52ff-4e43-9b7f-548ae326cf0d",
   "metadata": {},
   "outputs": [
    {
     "data": {
      "text/plain": [
       "{'rating': -1.0,\n",
       " 'domain': 'ckom.com',\n",
       " 'explanation': 'I do not have enough information to evaluate the credibility of this website.'}"
      ]
     },
     "execution_count": 11,
     "metadata": {},
     "output_type": "execute_result"
    }
   ],
   "source": [
    "gemini_resp['parsed']"
   ]
  }
 ],
 "metadata": {
  "kernelspec": {
   "display_name": "Python 3 (ipykernel)",
   "language": "python",
   "name": "python3"
  },
  "language_info": {
   "codemirror_mode": {
    "name": "ipython",
    "version": 3
   },
   "file_extension": ".py",
   "mimetype": "text/x-python",
   "name": "python",
   "nbconvert_exporter": "python",
   "pygments_lexer": "ipython3",
   "version": "3.12.10"
  }
 },
 "nbformat": 4,
 "nbformat_minor": 5
}

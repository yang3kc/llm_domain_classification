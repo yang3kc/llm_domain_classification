{
 "cells": [
  {
   "cell_type": "code",
   "execution_count": 1,
   "id": "bad0b4f6-a5bb-4711-8442-fd65973decc7",
   "metadata": {},
   "outputs": [],
   "source": [
    "from openai import OpenAI\n",
    "from pydantic import BaseModel\n",
    "import json"
   ]
  },
  {
   "cell_type": "code",
   "execution_count": 2,
   "id": "ab556da5-e6d9-4bf7-b4e0-1f9b4b0f0836",
   "metadata": {},
   "outputs": [],
   "source": [
    "import pandas as pd"
   ]
  },
  {
   "cell_type": "code",
   "execution_count": 3,
   "id": "70cc4aa6-3f0c-4723-9703-ed95a38944da",
   "metadata": {},
   "outputs": [],
   "source": [
    "from llmdomainrating import *"
   ]
  },
  {
   "cell_type": "code",
   "execution_count": 4,
   "id": "ecd4810b-8779-4877-9cc3-614a240f5726",
   "metadata": {},
   "outputs": [],
   "source": [
    "openai_api_key = load_api_key(\"../../api_keys.json\", 'OpenAI')"
   ]
  },
  {
   "cell_type": "code",
   "execution_count": 5,
   "id": "0efcb975-7bd1-47b9-a073-2f17cc245e79",
   "metadata": {},
   "outputs": [
    {
     "data": {
      "text/plain": [
       "{'properties': {'rating': {'description': 'Domain credibility rating, ranging from -1 to 1',\n",
       "   'maximum': 1,\n",
       "   'minimum': -1,\n",
       "   'title': 'Rating',\n",
       "   'type': 'number'},\n",
       "  'domain': {'description': 'The domain name.',\n",
       "   'title': 'Domain',\n",
       "   'type': 'string'},\n",
       "  'explanation': {'description': 'Explanation of the rating.',\n",
       "   'title': 'Explanation',\n",
       "   'type': 'string'}},\n",
       " 'required': ['rating', 'domain', 'explanation'],\n",
       " 'title': 'DomainRating',\n",
       " 'type': 'object'}"
      ]
     },
     "execution_count": 5,
     "metadata": {},
     "output_type": "execute_result"
    }
   ],
   "source": [
    "DomainRating.model_json_schema()"
   ]
  },
  {
   "cell_type": "code",
   "execution_count": 58,
   "id": "1437d318-3c91-4361-97dd-ae87776282fa",
   "metadata": {},
   "outputs": [
    {
     "data": {
      "text/plain": [
       "'{\"properties\": {\"rating\": {\"description\": \"Domain credibility rating, ranging from -1 to 1\", \"title\": \"Rating\", \"type\": \"number\"}, \"domain\": {\"description\": \"The domain name\", \"title\": \"Domain\", \"type\": \"string\"}, \"explanation\": {\"description\": \"Explanation of the rating.\", \"title\": \"Explanation\", \"type\": \"string\"}}, \"additionalProperties\": false, \"required\": [\"rating\", \"domain\", \"explanation\"], \"title\": \"DomainRating\", \"type\": \"object\"}'"
      ]
     },
     "execution_count": 58,
     "metadata": {},
     "output_type": "execute_result"
    }
   ],
   "source": [
    "json.dumps(DOMAIN_RATING_JSON_SCHEMA)"
   ]
  },
  {
   "cell_type": "code",
   "execution_count": 7,
   "id": "e204040c-32ae-4d03-9df4-be1e769be13d",
   "metadata": {},
   "outputs": [],
   "source": [
    "client = OpenAI(api_key=openai_api_key)"
   ]
  },
  {
   "cell_type": "code",
   "execution_count": 7,
   "id": "446df434-4c83-4c19-b507-1f5949ea6fe5",
   "metadata": {},
   "outputs": [
    {
     "data": {
      "text/plain": [
       "'You are an assistant to determine the credibility of websites.'"
      ]
     },
     "execution_count": 7,
     "metadata": {},
     "output_type": "execute_result"
    }
   ],
   "source": [
    "SYS_BASE"
   ]
  },
  {
   "cell_type": "code",
   "execution_count": 8,
   "id": "81117efe-526c-41d4-8aba-57bfec459f9f",
   "metadata": {},
   "outputs": [
    {
     "data": {
      "text/plain": [
       "\"\\n    Rate the website's credibility: {domain}, on a scale between 0 and 1, where 0 means very low credibility and 1 means very high credibility.\\n    The assistant returns a rating of -1 when the assistant has no knowledge of the website; otherwise, the assistant should provide the best estimation.\\n    In addition to the rating, the assistant should also provide a short explanation.\\n\""
      ]
     },
     "execution_count": 8,
     "metadata": {},
     "output_type": "execute_result"
    }
   ],
   "source": [
    "USER_INSTRUCTION"
   ]
  },
  {
   "cell_type": "code",
   "execution_count": 9,
   "id": "377602a7-3e4f-4da8-b0f8-b409ca1d234e",
   "metadata": {},
   "outputs": [],
   "source": [
    "resp = client.responses.parse(\n",
    "    model='gpt-4o-mini',\n",
    "    instructions=SYS_BASE,\n",
    "    input=USER_INSTRUCTION.format(domain=\"tampabay.com\"),\n",
    "    temperature=0,\n",
    "    text={\n",
    "        \"format\": {\n",
    "            \"type\": \"json_schema\",\n",
    "            \"name\": \"domain_rating\",\n",
    "            \"strict\": True,\n",
    "            \"schema\": DOMAIN_RATING_JSON_SCHEMA\n",
    "        }\n",
    "    }\n",
    ")"
   ]
  },
  {
   "cell_type": "code",
   "execution_count": 23,
   "id": "131341db-9be8-4c8c-840d-3c236ff7cfd3",
   "metadata": {},
   "outputs": [
    {
     "data": {
      "text/plain": [
       "'{\"rating\":0.8,\"domain\":\"tampabay.com\",\"explanation\":\"Tampa Bay Times is a well-established news organization known for its local coverage and investigative journalism. It has a strong reputation in the community and is generally considered a credible source of information.\"}'"
      ]
     },
     "execution_count": 23,
     "metadata": {},
     "output_type": "execute_result"
    }
   ],
   "source": [
    "resp.output[0].content[0].text"
   ]
  },
  {
   "cell_type": "code",
   "execution_count": 24,
   "id": "09818dba-f971-4250-aaf0-e3873b8be920",
   "metadata": {},
   "outputs": [
    {
     "data": {
      "text/plain": [
       "'{\"rating\":0.8,\"domain\":\"tampabay.com\",\"explanation\":\"Tampa Bay Times is a well-established news organization known for its local coverage and investigative journalism. It has a strong reputation in the community and is generally considered a credible source of information.\"}'"
      ]
     },
     "execution_count": 24,
     "metadata": {},
     "output_type": "execute_result"
    }
   ],
   "source": [
    "resp.output_text"
   ]
  },
  {
   "cell_type": "code",
   "execution_count": 39,
   "id": "dc85d2ee-baf9-41ef-a88d-f78386e211a4",
   "metadata": {},
   "outputs": [
    {
     "data": {
      "text/plain": [
       "'{\"id\":\"resp_681f6b7f561c8190affe32e8fc5e97850a79d0e3bd3bd31e\",\"created_at\":1746889599.0,\"error\":null,\"incomplete_details\":null,\"instructions\":\"You are an assistant to determine the credibility of websites.\",\"metadata\":{},\"model\":\"gpt-4o-mini-2024-07-18\",\"object\":\"response\",\"output\":[{\"id\":\"msg_681f6b86aba0819085340f9bde9d96ac0a79d0e3bd3bd31e\",\"content\":[{\"annotations\":[],\"text\":\"{\\\\\"rating\\\\\":0.8,\\\\\"domain\\\\\":\\\\\"tampabay.com\\\\\",\\\\\"explanation\\\\\":\\\\\"Tampa Bay Times is a well-established news organization known for its local coverage and investigative journalism. It has a strong reputation in the community and is generally considered a credible source of information.\\\\\"}\",\"type\":\"output_text\",\"parsed\":null}],\"role\":\"assistant\",\"status\":\"completed\",\"type\":\"message\"}],\"parallel_tool_calls\":true,\"temperature\":0.0,\"tool_choice\":\"auto\",\"tools\":[],\"top_p\":1.0,\"max_output_tokens\":null,\"previous_response_id\":null,\"reasoning\":{\"effort\":null,\"generate_summary\":null,\"summary\":null},\"service_tier\":\"default\",\"status\":\"completed\",\"text\":{\"format\":{\"name\":\"domain_rating\",\"schema_\":{\"properties\":{\"rating\":{\"description\":\"Domain credibility rating, ranging from -1 to 1\",\"title\":\"Rating\",\"type\":\"number\"},\"domain\":{\"description\":\"The domain name\",\"title\":\"Domain\",\"type\":\"string\"},\"explanation\":{\"description\":\"Explanation of the rating.\",\"title\":\"Explanation\",\"type\":\"string\"}},\"additionalProperties\":false,\"required\":[\"rating\",\"domain\",\"explanation\"],\"title\":\"DomainRating\",\"type\":\"object\"},\"type\":\"json_schema\",\"description\":null,\"strict\":true}},\"truncation\":\"disabled\",\"usage\":{\"input_tokens\":186,\"input_tokens_details\":{\"cached_tokens\":0},\"output_tokens\":56,\"output_tokens_details\":{\"reasoning_tokens\":0},\"total_tokens\":242},\"user\":null,\"store\":true}'"
      ]
     },
     "execution_count": 39,
     "metadata": {},
     "output_type": "execute_result"
    }
   ],
   "source": [
    "resp.model_dump_json()"
   ]
  },
  {
   "cell_type": "code",
   "execution_count": 40,
   "id": "d74e705d-74ae-4564-85e0-f8de0f0afcaf",
   "metadata": {},
   "outputs": [],
   "source": [
    "with open(\"/Users/yangkc/working/llm/llm_domain_classification/backend/scripts/openai/tampabay.json\") as f:\n",
    "    temp_resp = json.load(f)"
   ]
  },
  {
   "cell_type": "code",
   "execution_count": 52,
   "id": "5baa4550-5c8d-44a7-b0e5-b214fce1fa17",
   "metadata": {},
   "outputs": [
    {
     "data": {
      "text/plain": [
       "DomainRating(rating=0.8, domain='tampabay.com', explanation='Tampa Bay Times is a well-established news organization known for its local journalism in the Tampa Bay area. It has a reputation for credible reporting and is a trusted source for news, which contributes to its high credibility rating.')"
      ]
     },
     "execution_count": 52,
     "metadata": {},
     "output_type": "execute_result"
    }
   ],
   "source": [
    "DomainRating.model_validate_json(temp_resp['output'][0]['content'][0]['text'])"
   ]
  },
  {
   "cell_type": "code",
   "execution_count": 17,
   "id": "e0628706-011a-4558-b8bb-22fbad15489c",
   "metadata": {},
   "outputs": [],
   "source": [
    "gpt41nano_df = pd.read_parquet(\"/Users/yangkc/working/llm/llm_domain_classification/data/intermediate/parsed_responses/openai/gpt-4.1-nano-2025-04-14.parquet\")\n",
    "gpt41mini_df = pd.read_parquet(\"/Users/yangkc/working/llm/llm_domain_classification/data/intermediate/parsed_responses/openai/gpt-4.1-mini-2025-04-14.parquet\")"
   ]
  },
  {
   "cell_type": "code",
   "execution_count": 18,
   "id": "ace8680f-99c9-4dff-ae1d-aa8b39df9c11",
   "metadata": {},
   "outputs": [
    {
     "data": {
      "text/html": [
       "<div>\n",
       "<style scoped>\n",
       "    .dataframe tbody tr th:only-of-type {\n",
       "        vertical-align: middle;\n",
       "    }\n",
       "\n",
       "    .dataframe tbody tr th {\n",
       "        vertical-align: top;\n",
       "    }\n",
       "\n",
       "    .dataframe thead th {\n",
       "        text-align: right;\n",
       "    }\n",
       "</style>\n",
       "<table border=\"1\" class=\"dataframe\">\n",
       "  <thead>\n",
       "    <tr style=\"text-align: right;\">\n",
       "      <th></th>\n",
       "      <th>rating</th>\n",
       "      <th>domain</th>\n",
       "      <th>explanation</th>\n",
       "      <th>provider</th>\n",
       "      <th>model</th>\n",
       "    </tr>\n",
       "  </thead>\n",
       "  <tbody>\n",
       "    <tr>\n",
       "      <th>20</th>\n",
       "      <td>-1.0</td>\n",
       "      <td>thebl.tv</td>\n",
       "      <td>There is no available information or credible ...</td>\n",
       "      <td>openai</td>\n",
       "      <td>gpt-4.1-mini-2025-04-14</td>\n",
       "    </tr>\n",
       "    <tr>\n",
       "      <th>38</th>\n",
       "      <td>-1.0</td>\n",
       "      <td>newspress.com</td>\n",
       "      <td>I have no information about the credibility of...</td>\n",
       "      <td>openai</td>\n",
       "      <td>gpt-4.1-mini-2025-04-14</td>\n",
       "    </tr>\n",
       "    <tr>\n",
       "      <th>89</th>\n",
       "      <td>-1.0</td>\n",
       "      <td>sooeveningnews.com</td>\n",
       "      <td>There is no available information or known rep...</td>\n",
       "      <td>openai</td>\n",
       "      <td>gpt-4.1-mini-2025-04-14</td>\n",
       "    </tr>\n",
       "    <tr>\n",
       "      <th>101</th>\n",
       "      <td>-1.0</td>\n",
       "      <td>spartanavenue.com</td>\n",
       "      <td>I have no information or knowledge about the w...</td>\n",
       "      <td>openai</td>\n",
       "      <td>gpt-4.1-mini-2025-04-14</td>\n",
       "    </tr>\n",
       "    <tr>\n",
       "      <th>117</th>\n",
       "      <td>-1.0</td>\n",
       "      <td>thejnotes.com</td>\n",
       "      <td>I have no information or knowledge about the w...</td>\n",
       "      <td>openai</td>\n",
       "      <td>gpt-4.1-mini-2025-04-14</td>\n",
       "    </tr>\n",
       "    <tr>\n",
       "      <th>...</th>\n",
       "      <td>...</td>\n",
       "      <td>...</td>\n",
       "      <td>...</td>\n",
       "      <td>...</td>\n",
       "      <td>...</td>\n",
       "    </tr>\n",
       "    <tr>\n",
       "      <th>5490</th>\n",
       "      <td>-1.0</td>\n",
       "      <td>godanriver.com</td>\n",
       "      <td>There is no available information or known rep...</td>\n",
       "      <td>openai</td>\n",
       "      <td>gpt-4.1-mini-2025-04-14</td>\n",
       "    </tr>\n",
       "    <tr>\n",
       "      <th>5544</th>\n",
       "      <td>-1.0</td>\n",
       "      <td>en-volve.com</td>\n",
       "      <td>I have no information or knowledge about the w...</td>\n",
       "      <td>openai</td>\n",
       "      <td>gpt-4.1-mini-2025-04-14</td>\n",
       "    </tr>\n",
       "    <tr>\n",
       "      <th>5559</th>\n",
       "      <td>-1.0</td>\n",
       "      <td>pqbnews.com</td>\n",
       "      <td>I have no knowledge or information about the w...</td>\n",
       "      <td>openai</td>\n",
       "      <td>gpt-4.1-mini-2025-04-14</td>\n",
       "    </tr>\n",
       "    <tr>\n",
       "      <th>5630</th>\n",
       "      <td>-1.0</td>\n",
       "      <td>mkecitywire.com</td>\n",
       "      <td>There is no available information or known rep...</td>\n",
       "      <td>openai</td>\n",
       "      <td>gpt-4.1-mini-2025-04-14</td>\n",
       "    </tr>\n",
       "    <tr>\n",
       "      <th>5643</th>\n",
       "      <td>-1.0</td>\n",
       "      <td>blackandteal.com</td>\n",
       "      <td>There is no available information or known rep...</td>\n",
       "      <td>openai</td>\n",
       "      <td>gpt-4.1-mini-2025-04-14</td>\n",
       "    </tr>\n",
       "  </tbody>\n",
       "</table>\n",
       "<p>251 rows × 5 columns</p>\n",
       "</div>"
      ],
      "text/plain": [
       "      rating              domain  \\\n",
       "20      -1.0            thebl.tv   \n",
       "38      -1.0       newspress.com   \n",
       "89      -1.0  sooeveningnews.com   \n",
       "101     -1.0   spartanavenue.com   \n",
       "117     -1.0       thejnotes.com   \n",
       "...      ...                 ...   \n",
       "5490    -1.0      godanriver.com   \n",
       "5544    -1.0        en-volve.com   \n",
       "5559    -1.0         pqbnews.com   \n",
       "5630    -1.0     mkecitywire.com   \n",
       "5643    -1.0    blackandteal.com   \n",
       "\n",
       "                                            explanation provider  \\\n",
       "20    There is no available information or credible ...   openai   \n",
       "38    I have no information about the credibility of...   openai   \n",
       "89    There is no available information or known rep...   openai   \n",
       "101   I have no information or knowledge about the w...   openai   \n",
       "117   I have no information or knowledge about the w...   openai   \n",
       "...                                                 ...      ...   \n",
       "5490  There is no available information or known rep...   openai   \n",
       "5544  I have no information or knowledge about the w...   openai   \n",
       "5559  I have no knowledge or information about the w...   openai   \n",
       "5630  There is no available information or known rep...   openai   \n",
       "5643  There is no available information or known rep...   openai   \n",
       "\n",
       "                        model  \n",
       "20    gpt-4.1-mini-2025-04-14  \n",
       "38    gpt-4.1-mini-2025-04-14  \n",
       "89    gpt-4.1-mini-2025-04-14  \n",
       "101   gpt-4.1-mini-2025-04-14  \n",
       "117   gpt-4.1-mini-2025-04-14  \n",
       "...                       ...  \n",
       "5490  gpt-4.1-mini-2025-04-14  \n",
       "5544  gpt-4.1-mini-2025-04-14  \n",
       "5559  gpt-4.1-mini-2025-04-14  \n",
       "5630  gpt-4.1-mini-2025-04-14  \n",
       "5643  gpt-4.1-mini-2025-04-14  \n",
       "\n",
       "[251 rows x 5 columns]"
      ]
     },
     "execution_count": 18,
     "metadata": {},
     "output_type": "execute_result"
    }
   ],
   "source": [
    "gpt41mini_df[gpt41mini_df.rating < 0]"
   ]
  },
  {
   "cell_type": "code",
   "execution_count": 19,
   "id": "b585caf1-3bae-4e58-a6e1-72760ba5868b",
   "metadata": {},
   "outputs": [
    {
     "data": {
      "text/plain": [
       "34"
      ]
     },
     "execution_count": 19,
     "metadata": {},
     "output_type": "execute_result"
    }
   ],
   "source": [
    "len(temp_df[temp_df.rating < 0])"
   ]
  },
  {
   "cell_type": "code",
   "execution_count": 8,
   "id": "d0c49669-6ffe-45a9-a9fd-6c43e500e5d9",
   "metadata": {},
   "outputs": [],
   "source": [
    "resp = client.responses.parse(\n",
    "    model='o3-mini',\n",
    "    instructions=SYS_BASE,\n",
    "    input=USER_INSTRUCTION.format(domain=\"tampabay.com\"),\n",
    "    reasoning={\n",
    "        \"effort\": \"medium\",\n",
    "        \"summary\": \"auto\",\n",
    "    },\n",
    "    text={\n",
    "        \"format\": {\n",
    "            \"type\": \"json_schema\",\n",
    "            \"name\": \"domain_rating\",\n",
    "            \"strict\": True,\n",
    "            \"schema\": DOMAIN_RATING_JSON_SCHEMA\n",
    "        }\n",
    "    }\n",
    ")"
   ]
  },
  {
   "cell_type": "code",
   "execution_count": 13,
   "id": "835f389e-a42d-42f8-9a42-95d81afc975b",
   "metadata": {},
   "outputs": [
    {
     "data": {
      "text/plain": [
       "[ResponseReasoningItem(id='rs_681fc002a7dc81909a18da926eb1ad49053bdec52c1d7993', summary=[Summary(text='**Assessing credibility rating**\\n\\nI’m evaluating the credibility of “tampabay.com,” which is associated with the Tampa Bay Times. Based on its status as a major regional newspaper, it seems credible. The rating scale goes from 0 to 1, and it’s a well-known source. Although some might critique it for political bias, it generally holds a good journalistic reputation. I’d assign a credibility rating of 0.8, reflecting its evidence-based reporting and overall reliability as a regional newspaper.', type='summary_text'), Summary(text=\"**Finalizing website credibility**\\n\\nI’m reflecting on the credibility of tampabay.com, which belongs to the Tampa Bay Times. This newspaper is well-regarded in Florida and has even won Pulitzer Prizes, so it's considered a trustworthy source. Given this reputation, I think a rating of 0.8 is appropriate. I’m planning to present this in a structured format, including keys for domain, rating, and explanation. This way, it’s clear and easy for the user to understand the assessment!\", type='summary_text')], type='reasoning', encrypted_content=None, status=None),\n",
       " ParsedResponseOutputMessage[NoneType](id='msg_681fc007e7848190bd723752cf58cbfc053bdec52c1d7993', content=[ParsedResponseOutputText[NoneType](annotations=[], text='{\\n  \"rating\": 0.8,\\n  \"domain\": \"tampabay.com\",\\n  \"explanation\": \"tampabay.com is the website of the Tampa Bay Times, a well-regarded regional newspaper that has earned numerous accolades, including Pulitzer Prizes. Its journalism is generally considered credible and reliable, which supports its high credibility score.\"\\n}', type='output_text', parsed=None)], role='assistant', status='completed', type='message')]"
      ]
     },
     "execution_count": 13,
     "metadata": {},
     "output_type": "execute_result"
    }
   ],
   "source": [
    "resp.model_dump_json()"
   ]
  }
 ],
 "metadata": {
  "kernelspec": {
   "display_name": "Python 3 (ipykernel)",
   "language": "python",
   "name": "python3"
  },
  "language_info": {
   "codemirror_mode": {
    "name": "ipython",
    "version": 3
   },
   "file_extension": ".py",
   "mimetype": "text/x-python",
   "name": "python",
   "nbconvert_exporter": "python",
   "pygments_lexer": "ipython3",
   "version": "3.12.10"
  }
 },
 "nbformat": 4,
 "nbformat_minor": 5
}

{
 "cells": [
  {
   "cell_type": "code",
   "execution_count": 1,
   "id": "bad0b4f6-a5bb-4711-8442-fd65973decc7",
   "metadata": {},
   "outputs": [],
   "source": [
    "from openai import OpenAI\n",
    "from pydantic import BaseModel\n",
    "import json"
   ]
  },
  {
   "cell_type": "code",
   "execution_count": 2,
   "id": "ab556da5-e6d9-4bf7-b4e0-1f9b4b0f0836",
   "metadata": {},
   "outputs": [],
   "source": [
    "import pandas as pd"
   ]
  },
  {
   "cell_type": "code",
   "execution_count": 3,
   "id": "70cc4aa6-3f0c-4723-9703-ed95a38944da",
   "metadata": {},
   "outputs": [],
   "source": [
    "from llmdomainrating import *"
   ]
  },
  {
   "cell_type": "code",
   "execution_count": 4,
   "id": "ecd4810b-8779-4877-9cc3-614a240f5726",
   "metadata": {},
   "outputs": [],
   "source": [
    "openai_api_key = load_api_key(\"../../api_keys.json\", 'OpenAI')"
   ]
  },
  {
   "cell_type": "code",
   "execution_count": 5,
   "id": "0efcb975-7bd1-47b9-a073-2f17cc245e79",
   "metadata": {},
   "outputs": [
    {
     "data": {
      "text/plain": [
       "{'properties': {'rating': {'description': 'Domain credibility rating, ranging from -1 to 1',\n",
       "   'maximum': 1,\n",
       "   'minimum': -1,\n",
       "   'title': 'Rating',\n",
       "   'type': 'number'},\n",
       "  'domain': {'description': 'The domain name.',\n",
       "   'title': 'Domain',\n",
       "   'type': 'string'},\n",
       "  'explanation': {'description': 'Explanation of the rating.',\n",
       "   'title': 'Explanation',\n",
       "   'type': 'string'}},\n",
       " 'required': ['rating', 'domain', 'explanation'],\n",
       " 'title': 'DomainRating',\n",
       " 'type': 'object'}"
      ]
     },
     "execution_count": 5,
     "metadata": {},
     "output_type": "execute_result"
    }
   ],
   "source": [
    "DomainRating.model_json_schema()"
   ]
  },
  {
   "cell_type": "code",
   "execution_count": 58,
   "id": "1437d318-3c91-4361-97dd-ae87776282fa",
   "metadata": {},
   "outputs": [
    {
     "data": {
      "text/plain": [
       "'{\"properties\": {\"rating\": {\"description\": \"Domain credibility rating, ranging from -1 to 1\", \"title\": \"Rating\", \"type\": \"number\"}, \"domain\": {\"description\": \"The domain name\", \"title\": \"Domain\", \"type\": \"string\"}, \"explanation\": {\"description\": \"Explanation of the rating.\", \"title\": \"Explanation\", \"type\": \"string\"}}, \"additionalProperties\": false, \"required\": [\"rating\", \"domain\", \"explanation\"], \"title\": \"DomainRating\", \"type\": \"object\"}'"
      ]
     },
     "execution_count": 58,
     "metadata": {},
     "output_type": "execute_result"
    }
   ],
   "source": [
    "json.dumps(DOMAIN_RATING_JSON_SCHEMA)"
   ]
  },
  {
   "cell_type": "code",
   "execution_count": 7,
   "id": "e204040c-32ae-4d03-9df4-be1e769be13d",
   "metadata": {},
   "outputs": [],
   "source": [
    "client = OpenAI(api_key=openai_api_key)"
   ]
  },
  {
   "cell_type": "code",
   "execution_count": 7,
   "id": "446df434-4c83-4c19-b507-1f5949ea6fe5",
   "metadata": {},
   "outputs": [
    {
     "data": {
      "text/plain": [
       "'You are an assistant to determine the credibility of websites.'"
      ]
     },
     "execution_count": 7,
     "metadata": {},
     "output_type": "execute_result"
    }
   ],
   "source": [
    "SYS_BASE"
   ]
  },
  {
   "cell_type": "code",
   "execution_count": 8,
   "id": "81117efe-526c-41d4-8aba-57bfec459f9f",
   "metadata": {},
   "outputs": [
    {
     "data": {
      "text/plain": [
       "\"\\n    Rate the website's credibility: {domain}, on a scale between 0 and 1, where 0 means very low credibility and 1 means very high credibility.\\n    The assistant returns a rating of -1 when the assistant has no knowledge of the website; otherwise, the assistant should provide the best estimation.\\n    In addition to the rating, the assistant should also provide a short explanation.\\n\""
      ]
     },
     "execution_count": 8,
     "metadata": {},
     "output_type": "execute_result"
    }
   ],
   "source": [
    "USER_INSTRUCTION"
   ]
  },
  {
   "cell_type": "code",
   "execution_count": 9,
   "id": "377602a7-3e4f-4da8-b0f8-b409ca1d234e",
   "metadata": {},
   "outputs": [],
   "source": [
    "resp = client.responses.parse(\n",
    "    model='gpt-4o-mini',\n",
    "    instructions=SYS_BASE,\n",
    "    input=USER_INSTRUCTION.format(domain=\"tampabay.com\"),\n",
    "    temperature=0,\n",
    "    text={\n",
    "        \"format\": {\n",
    "            \"type\": \"json_schema\",\n",
    "            \"name\": \"domain_rating\",\n",
    "            \"strict\": True,\n",
    "            \"schema\": DOMAIN_RATING_JSON_SCHEMA\n",
    "        }\n",
    "    }\n",
    ")"
   ]
  },
  {
   "cell_type": "code",
   "execution_count": 23,
   "id": "131341db-9be8-4c8c-840d-3c236ff7cfd3",
   "metadata": {},
   "outputs": [
    {
     "data": {
      "text/plain": [
       "'{\"rating\":0.8,\"domain\":\"tampabay.com\",\"explanation\":\"Tampa Bay Times is a well-established news organization known for its local coverage and investigative journalism. It has a strong reputation in the community and is generally considered a credible source of information.\"}'"
      ]
     },
     "execution_count": 23,
     "metadata": {},
     "output_type": "execute_result"
    }
   ],
   "source": [
    "resp.output[0].content[0].text"
   ]
  },
  {
   "cell_type": "code",
   "execution_count": 24,
   "id": "09818dba-f971-4250-aaf0-e3873b8be920",
   "metadata": {},
   "outputs": [
    {
     "data": {
      "text/plain": [
       "'{\"rating\":0.8,\"domain\":\"tampabay.com\",\"explanation\":\"Tampa Bay Times is a well-established news organization known for its local coverage and investigative journalism. It has a strong reputation in the community and is generally considered a credible source of information.\"}'"
      ]
     },
     "execution_count": 24,
     "metadata": {},
     "output_type": "execute_result"
    }
   ],
   "source": [
    "resp.output_text"
   ]
  },
  {
   "cell_type": "code",
   "execution_count": 39,
   "id": "dc85d2ee-baf9-41ef-a88d-f78386e211a4",
   "metadata": {},
   "outputs": [
    {
     "data": {
      "text/plain": [
       "'{\"id\":\"resp_681f6b7f561c8190affe32e8fc5e97850a79d0e3bd3bd31e\",\"created_at\":1746889599.0,\"error\":null,\"incomplete_details\":null,\"instructions\":\"You are an assistant to determine the credibility of websites.\",\"metadata\":{},\"model\":\"gpt-4o-mini-2024-07-18\",\"object\":\"response\",\"output\":[{\"id\":\"msg_681f6b86aba0819085340f9bde9d96ac0a79d0e3bd3bd31e\",\"content\":[{\"annotations\":[],\"text\":\"{\\\\\"rating\\\\\":0.8,\\\\\"domain\\\\\":\\\\\"tampabay.com\\\\\",\\\\\"explanation\\\\\":\\\\\"Tampa Bay Times is a well-established news organization known for its local coverage and investigative journalism. It has a strong reputation in the community and is generally considered a credible source of information.\\\\\"}\",\"type\":\"output_text\",\"parsed\":null}],\"role\":\"assistant\",\"status\":\"completed\",\"type\":\"message\"}],\"parallel_tool_calls\":true,\"temperature\":0.0,\"tool_choice\":\"auto\",\"tools\":[],\"top_p\":1.0,\"max_output_tokens\":null,\"previous_response_id\":null,\"reasoning\":{\"effort\":null,\"generate_summary\":null,\"summary\":null},\"service_tier\":\"default\",\"status\":\"completed\",\"text\":{\"format\":{\"name\":\"domain_rating\",\"schema_\":{\"properties\":{\"rating\":{\"description\":\"Domain credibility rating, ranging from -1 to 1\",\"title\":\"Rating\",\"type\":\"number\"},\"domain\":{\"description\":\"The domain name\",\"title\":\"Domain\",\"type\":\"string\"},\"explanation\":{\"description\":\"Explanation of the rating.\",\"title\":\"Explanation\",\"type\":\"string\"}},\"additionalProperties\":false,\"required\":[\"rating\",\"domain\",\"explanation\"],\"title\":\"DomainRating\",\"type\":\"object\"},\"type\":\"json_schema\",\"description\":null,\"strict\":true}},\"truncation\":\"disabled\",\"usage\":{\"input_tokens\":186,\"input_tokens_details\":{\"cached_tokens\":0},\"output_tokens\":56,\"output_tokens_details\":{\"reasoning_tokens\":0},\"total_tokens\":242},\"user\":null,\"store\":true}'"
      ]
     },
     "execution_count": 39,
     "metadata": {},
     "output_type": "execute_result"
    }
   ],
   "source": [
    "resp.model_dump_json()"
   ]
  },
  {
   "cell_type": "code",
   "execution_count": 40,
   "id": "d74e705d-74ae-4564-85e0-f8de0f0afcaf",
   "metadata": {},
   "outputs": [],
   "source": [
    "with open(\"/Users/yangkc/working/llm/llm_domain_classification/backend/scripts/openai/tampabay.json\") as f:\n",
    "    temp_resp = json.load(f)"
   ]
  },
  {
   "cell_type": "code",
   "execution_count": 52,
   "id": "5baa4550-5c8d-44a7-b0e5-b214fce1fa17",
   "metadata": {},
   "outputs": [
    {
     "data": {
      "text/plain": [
       "DomainRating(rating=0.8, domain='tampabay.com', explanation='Tampa Bay Times is a well-established news organization known for its local journalism in the Tampa Bay area. It has a reputation for credible reporting and is a trusted source for news, which contributes to its high credibility rating.')"
      ]
     },
     "execution_count": 52,
     "metadata": {},
     "output_type": "execute_result"
    }
   ],
   "source": [
    "DomainRating.model_validate_json(temp_resp['output'][0]['content'][0]['text'])"
   ]
  },
  {
   "cell_type": "code",
   "execution_count": 17,
   "id": "e0628706-011a-4558-b8bb-22fbad15489c",
   "metadata": {},
   "outputs": [],
   "source": [
    "gpt41nano_df = pd.read_parquet(\"/Users/yangkc/working/llm/llm_domain_classification/data/intermediate/parsed_responses/openai/gpt-4.1-nano-2025-04-14.parquet\")\n",
    "gpt41mini_df = pd.read_parquet(\"/Users/yangkc/working/llm/llm_domain_classification/data/intermediate/parsed_responses/openai/gpt-4.1-mini-2025-04-14.parquet\")"
   ]
  },
  {
   "cell_type": "code",
   "execution_count": 18,
   "id": "ace8680f-99c9-4dff-ae1d-aa8b39df9c11",
   "metadata": {},
   "outputs": [
    {
     "data": {
      "text/html": [
       "<div>\n",
       "<style scoped>\n",
       "    .dataframe tbody tr th:only-of-type {\n",
       "        vertical-align: middle;\n",
       "    }\n",
       "\n",
       "    .dataframe tbody tr th {\n",
       "        vertical-align: top;\n",
       "    }\n",
       "\n",
       "    .dataframe thead th {\n",
       "        text-align: right;\n",
       "    }\n",
       "</style>\n",
       "<table border=\"1\" class=\"dataframe\">\n",
       "  <thead>\n",
       "    <tr style=\"text-align: right;\">\n",
       "      <th></th>\n",
       "      <th>rating</th>\n",
       "      <th>domain</th>\n",
       "      <th>explanation</th>\n",
       "      <th>provider</th>\n",
       "      <th>model</th>\n",
       "    </tr>\n",
       "  </thead>\n",
       "  <tbody>\n",
       "    <tr>\n",
       "      <th>20</th>\n",
       "      <td>-1.0</td>\n",
       "      <td>thebl.tv</td>\n",
       "      <td>There is no available information or credible ...</td>\n",
       "      <td>openai</td>\n",
       "      <td>gpt-4.1-mini-2025-04-14</td>\n",
       "    </tr>\n",
       "    <tr>\n",
       "      <th>38</th>\n",
       "      <td>-1.0</td>\n",
       "      <td>newspress.com</td>\n",
       "      <td>I have no information about the credibility of...</td>\n",
       "      <td>openai</td>\n",
       "      <td>gpt-4.1-mini-2025-04-14</td>\n",
       "    </tr>\n",
       "    <tr>\n",
       "      <th>89</th>\n",
       "      <td>-1.0</td>\n",
       "      <td>sooeveningnews.com</td>\n",
       "      <td>There is no available information or known rep...</td>\n",
       "      <td>openai</td>\n",
       "      <td>gpt-4.1-mini-2025-04-14</td>\n",
       "    </tr>\n",
       "    <tr>\n",
       "      <th>101</th>\n",
       "      <td>-1.0</td>\n",
       "      <td>spartanavenue.com</td>\n",
       "      <td>I have no information or knowledge about the w...</td>\n",
       "      <td>openai</td>\n",
       "      <td>gpt-4.1-mini-2025-04-14</td>\n",
       "    </tr>\n",
       "    <tr>\n",
       "      <th>117</th>\n",
       "      <td>-1.0</td>\n",
       "      <td>thejnotes.com</td>\n",
       "      <td>I have no information or knowledge about the w...</td>\n",
       "      <td>openai</td>\n",
       "      <td>gpt-4.1-mini-2025-04-14</td>\n",
       "    </tr>\n",
       "    <tr>\n",
       "      <th>...</th>\n",
       "      <td>...</td>\n",
       "      <td>...</td>\n",
       "      <td>...</td>\n",
       "      <td>...</td>\n",
       "      <td>...</td>\n",
       "    </tr>\n",
       "    <tr>\n",
       "      <th>5490</th>\n",
       "      <td>-1.0</td>\n",
       "      <td>godanriver.com</td>\n",
       "      <td>There is no available information or known rep...</td>\n",
       "      <td>openai</td>\n",
       "      <td>gpt-4.1-mini-2025-04-14</td>\n",
       "    </tr>\n",
       "    <tr>\n",
       "      <th>5544</th>\n",
       "      <td>-1.0</td>\n",
       "      <td>en-volve.com</td>\n",
       "      <td>I have no information or knowledge about the w...</td>\n",
       "      <td>openai</td>\n",
       "      <td>gpt-4.1-mini-2025-04-14</td>\n",
       "    </tr>\n",
       "    <tr>\n",
       "      <th>5559</th>\n",
       "      <td>-1.0</td>\n",
       "      <td>pqbnews.com</td>\n",
       "      <td>I have no knowledge or information about the w...</td>\n",
       "      <td>openai</td>\n",
       "      <td>gpt-4.1-mini-2025-04-14</td>\n",
       "    </tr>\n",
       "    <tr>\n",
       "      <th>5630</th>\n",
       "      <td>-1.0</td>\n",
       "      <td>mkecitywire.com</td>\n",
       "      <td>There is no available information or known rep...</td>\n",
       "      <td>openai</td>\n",
       "      <td>gpt-4.1-mini-2025-04-14</td>\n",
       "    </tr>\n",
       "    <tr>\n",
       "      <th>5643</th>\n",
       "      <td>-1.0</td>\n",
       "      <td>blackandteal.com</td>\n",
       "      <td>There is no available information or known rep...</td>\n",
       "      <td>openai</td>\n",
       "      <td>gpt-4.1-mini-2025-04-14</td>\n",
       "    </tr>\n",
       "  </tbody>\n",
       "</table>\n",
       "<p>251 rows × 5 columns</p>\n",
       "</div>"
      ],
      "text/plain": [
       "      rating              domain  \\\n",
       "20      -1.0            thebl.tv   \n",
       "38      -1.0       newspress.com   \n",
       "89      -1.0  sooeveningnews.com   \n",
       "101     -1.0   spartanavenue.com   \n",
       "117     -1.0       thejnotes.com   \n",
       "...      ...                 ...   \n",
       "5490    -1.0      godanriver.com   \n",
       "5544    -1.0        en-volve.com   \n",
       "5559    -1.0         pqbnews.com   \n",
       "5630    -1.0     mkecitywire.com   \n",
       "5643    -1.0    blackandteal.com   \n",
       "\n",
       "                                            explanation provider  \\\n",
       "20    There is no available information or credible ...   openai   \n",
       "38    I have no information about the credibility of...   openai   \n",
       "89    There is no available information or known rep...   openai   \n",
       "101   I have no information or knowledge about the w...   openai   \n",
       "117   I have no information or knowledge about the w...   openai   \n",
       "...                                                 ...      ...   \n",
       "5490  There is no available information or known rep...   openai   \n",
       "5544  I have no information or knowledge about the w...   openai   \n",
       "5559  I have no knowledge or information about the w...   openai   \n",
       "5630  There is no available information or known rep...   openai   \n",
       "5643  There is no available information or known rep...   openai   \n",
       "\n",
       "                        model  \n",
       "20    gpt-4.1-mini-2025-04-14  \n",
       "38    gpt-4.1-mini-2025-04-14  \n",
       "89    gpt-4.1-mini-2025-04-14  \n",
       "101   gpt-4.1-mini-2025-04-14  \n",
       "117   gpt-4.1-mini-2025-04-14  \n",
       "...                       ...  \n",
       "5490  gpt-4.1-mini-2025-04-14  \n",
       "5544  gpt-4.1-mini-2025-04-14  \n",
       "5559  gpt-4.1-mini-2025-04-14  \n",
       "5630  gpt-4.1-mini-2025-04-14  \n",
       "5643  gpt-4.1-mini-2025-04-14  \n",
       "\n",
       "[251 rows x 5 columns]"
      ]
     },
     "execution_count": 18,
     "metadata": {},
     "output_type": "execute_result"
    }
   ],
   "source": [
    "gpt41mini_df[gpt41mini_df.rating < 0]"
   ]
  },
  {
   "cell_type": "code",
   "execution_count": 19,
   "id": "b585caf1-3bae-4e58-a6e1-72760ba5868b",
   "metadata": {},
   "outputs": [
    {
     "data": {
      "text/plain": [
       "34"
      ]
     },
     "execution_count": 19,
     "metadata": {},
     "output_type": "execute_result"
    }
   ],
   "source": [
    "len(temp_df[temp_df.rating < 0])"
   ]
  },
  {
   "cell_type": "code",
   "execution_count": 8,
   "id": "d0c49669-6ffe-45a9-a9fd-6c43e500e5d9",
   "metadata": {},
   "outputs": [],
   "source": [
    "resp = client.responses.parse(\n",
    "    model='o3-mini',\n",
    "    instructions=SYS_BASE,\n",
    "    input=USER_INSTRUCTION.format(domain=\"tampabay.com\"),\n",
    "    reasoning={\n",
    "        \"effort\": \"medium\",\n",
    "        \"summary\": \"auto\",\n",
    "    },\n",
    "    text={\n",
    "        \"format\": {\n",
    "            \"type\": \"json_schema\",\n",
    "            \"name\": \"domain_rating\",\n",
    "            \"strict\": True,\n",
    "            \"schema\": DOMAIN_RATING_JSON_SCHEMA\n",
    "        }\n",
    "    }\n",
    ")"
   ]
  },
  {
   "cell_type": "code",
   "execution_count": 13,
   "id": "835f389e-a42d-42f8-9a42-95d81afc975b",
   "metadata": {},
   "outputs": [
    {
     "data": {
      "text/plain": [
       "[ResponseReasoningItem(id='rs_681fc002a7dc81909a18da926eb1ad49053bdec52c1d7993', summary=[Summary(text='**Assessing credibility rating**\\n\\nI’m evaluating the credibility of “tampabay.com,” which is associated with the Tampa Bay Times. Based on its status as a major regional newspaper, it seems credible. The rating scale goes from 0 to 1, and it’s a well-known source. Although some might critique it for political bias, it generally holds a good journalistic reputation. I’d assign a credibility rating of 0.8, reflecting its evidence-based reporting and overall reliability as a regional newspaper.', type='summary_text'), Summary(text=\"**Finalizing website credibility**\\n\\nI’m reflecting on the credibility of tampabay.com, which belongs to the Tampa Bay Times. This newspaper is well-regarded in Florida and has even won Pulitzer Prizes, so it's considered a trustworthy source. Given this reputation, I think a rating of 0.8 is appropriate. I’m planning to present this in a structured format, including keys for domain, rating, and explanation. This way, it’s clear and easy for the user to understand the assessment!\", type='summary_text')], type='reasoning', encrypted_content=None, status=None),\n",
       " ParsedResponseOutputMessage[NoneType](id='msg_681fc007e7848190bd723752cf58cbfc053bdec52c1d7993', content=[ParsedResponseOutputText[NoneType](annotations=[], text='{\\n  \"rating\": 0.8,\\n  \"domain\": \"tampabay.com\",\\n  \"explanation\": \"tampabay.com is the website of the Tampa Bay Times, a well-regarded regional newspaper that has earned numerous accolades, including Pulitzer Prizes. Its journalism is generally considered credible and reliable, which supports its high credibility score.\"\\n}', type='output_text', parsed=None)], role='assistant', status='completed', type='message')]"
      ]
     },
     "execution_count": 13,
     "metadata": {},
     "output_type": "execute_result"
    }
   ],
   "source": [
    "resp.model_dump_json()"
   ]
  },
  {
   "cell_type": "code",
   "execution_count": 4,
   "id": "87d4f62e-f99e-44a7-a7e9-914504f47dd3",
   "metadata": {},
   "outputs": [],
   "source": [
    "my_client = create_api_client('openai')"
   ]
  },
  {
   "cell_type": "code",
   "execution_count": 6,
   "id": "d210bb5f-0bb4-47ab-b8f0-7d1e3ade6e89",
   "metadata": {},
   "outputs": [],
   "source": [
    "my_resp = my_client.query_model(\"foxnews.com\", \"o4-mini\")"
   ]
  },
  {
   "cell_type": "code",
   "execution_count": 8,
   "id": "a4cbd972-069a-4e8a-a23e-f8a1c4eca0c7",
   "metadata": {},
   "outputs": [
    {
     "data": {
      "text/plain": [
       "{'id': 'resp_6820c3953c4c819184cbffd3fe1bbf770b04470c31819a5b',\n",
       " 'created_at': 1746977685.0,\n",
       " 'error': None,\n",
       " 'incomplete_details': None,\n",
       " 'instructions': 'You are an assistant to determine the credibility of websites.',\n",
       " 'metadata': {},\n",
       " 'model': 'o4-mini-2025-04-16',\n",
       " 'object': 'response',\n",
       " 'output': [{'id': 'rs_6820c39923408191bfec04c5ad9939180b04470c31819a5b',\n",
       "   'summary': [],\n",
       "   'type': 'reasoning',\n",
       "   'encrypted_content': None,\n",
       "   'status': None},\n",
       "  {'id': 'msg_6820c39c73648191850fe1403da8f9c60b04470c31819a5b',\n",
       "   'content': [{'annotations': [],\n",
       "     'text': '{\"rating\":0.6,\"domain\":\"foxnews.com\",\"explanation\":\"Fox News is a major, well‐established news outlet with professional reporting and high audience reach, but it has a pronounced conservative editorial slant and has faced criticism for occasional inaccuracies and partisan framing.\"}',\n",
       "     'type': 'output_text',\n",
       "     'parsed': None}],\n",
       "   'role': 'assistant',\n",
       "   'status': 'completed',\n",
       "   'type': 'message'}],\n",
       " 'parallel_tool_calls': True,\n",
       " 'temperature': 1.0,\n",
       " 'tool_choice': 'auto',\n",
       " 'tools': [],\n",
       " 'top_p': 1.0,\n",
       " 'max_output_tokens': None,\n",
       " 'previous_response_id': None,\n",
       " 'reasoning': {'effort': 'medium',\n",
       "  'generate_summary': None,\n",
       "  'summary': 'detailed'},\n",
       " 'service_tier': 'default',\n",
       " 'status': 'completed',\n",
       " 'text': {'format': {'name': 'domain_rating',\n",
       "   'schema_': {'properties': {'rating': {'description': 'Domain credibility rating, ranging from -1 to 1',\n",
       "      'title': 'Rating',\n",
       "      'type': 'number'},\n",
       "     'domain': {'description': 'The domain name',\n",
       "      'title': 'Domain',\n",
       "      'type': 'string'},\n",
       "     'explanation': {'description': 'Explanation of the rating.',\n",
       "      'title': 'Explanation',\n",
       "      'type': 'string'}},\n",
       "    'additionalProperties': False,\n",
       "    'required': ['rating', 'domain', 'explanation'],\n",
       "    'title': 'DomainRating',\n",
       "    'type': 'object'},\n",
       "   'type': 'json_schema',\n",
       "   'description': None,\n",
       "   'strict': True}},\n",
       " 'truncation': 'disabled',\n",
       " 'usage': {'input_tokens': 184,\n",
       "  'input_tokens_details': {'cached_tokens': 0},\n",
       "  'output_tokens': 323,\n",
       "  'output_tokens_details': {'reasoning_tokens': 256},\n",
       "  'total_tokens': 507},\n",
       " 'user': None,\n",
       " 'store': True}"
      ]
     },
     "execution_count": 8,
     "metadata": {},
     "output_type": "execute_result"
    }
   ],
   "source": [
    "json.loads(my_resp)"
   ]
  },
  {
   "cell_type": "code",
   "execution_count": 12,
   "id": "a358ba1f-3d78-4089-9da8-47fdc46e880c",
   "metadata": {},
   "outputs": [],
   "source": [
    "with open(\"/Users/yangkc/working/llm/llm_domain_classification/data/intermediate/raw_responses/openai/o1-2024-12-17/thesaturdaypaper.com.au.txt\") as f:\n",
    "    reasoning_output_df = json.load(f)"
   ]
  },
  {
   "cell_type": "code",
   "execution_count": 24,
   "id": "459f02e9-7304-4566-a0c3-cd8c743dff14",
   "metadata": {},
   "outputs": [
    {
     "name": "stdout",
     "output_type": "stream",
     "text": [
      "{'id': 'rs_682062549fb0819185e6f6c433ea6ec206033a70c5e2b9a8', 'summary': [{'text': '**Rating website credibility**\\n\\nThe user wants a credibility rating for \"thesaturdaypaper.com.au\" on a scale from 0 to 1. Based on my understanding, The Saturday Paper is an established Australian weekly newspaper focusing on politics and society. It’s published by Schwartz Media, which is known for reputable publications like The Monthly and The Quarterly Essay. Given its recognition in Australia as a credible news source, I’d assign it a high credibility rating, likely around 0.8 or 0.9.', 'type': 'summary_text'}, {'text': '**Rating The Saturday Paper**\\n\\nThe user is asking me to rate \"thesaturdaypaper.com.au\" on a credibility scale from 0 to 1. I know that The Saturday Paper is an established Australian publication focusing on in-depth journalism and commentary on societal and political issues. It’s recognized for its investigative work and good editorial standards, so I’d rate it around 0.8 or 0.85. While it may not match the size of mainstream outlets, it remains a reputable source worth noting.', 'type': 'summary_text'}], 'type': 'reasoning', 'encrypted_content': None, 'status': None}\n",
      "{'id': 'msg_682062595f7c81918f9d057eae1edf9a06033a70c5e2b9a8', 'content': [{'annotations': [], 'text': 'Rating: 0.85  \\nExplanation: The Saturday Paper, published by Schwartz Media in Australia, is generally regarded as a reputable source for in-depth journalism and analysis, reflecting consistent editorial standards and a track record of credible reporting.', 'type': 'output_text', 'parsed': None}], 'role': 'assistant', 'status': 'completed', 'type': 'message'}\n"
     ]
    }
   ],
   "source": [
    "for item in reasoning_output_df['output']:\n",
    "    print(item)"
   ]
  },
  {
   "cell_type": "code",
   "execution_count": 25,
   "id": "acf9fc97-0e24-4027-ba4e-a20b3758a81f",
   "metadata": {},
   "outputs": [
    {
     "data": {
      "text/plain": [
       "'message'"
      ]
     },
     "execution_count": 25,
     "metadata": {},
     "output_type": "execute_result"
    }
   ],
   "source": [
    "reasoning_output_df['output'][1]['type']"
   ]
  },
  {
   "cell_type": "code",
   "execution_count": 21,
   "id": "16f8ff8c-dbed-439c-82da-284ad83c55d8",
   "metadata": {},
   "outputs": [
    {
     "data": {
      "text/plain": [
       "'Rating: 0.85  \\nExplanation: The Saturday Paper, published by Schwartz Media in Australia, is generally regarded as a reputable source for in-depth journalism and analysis, reflecting consistent editorial standards and a track record of credible reporting.'"
      ]
     },
     "execution_count": 21,
     "metadata": {},
     "output_type": "execute_result"
    }
   ],
   "source": [
    "reasoning_output_df['output'][1]['content'][0]['text']"
   ]
  },
  {
   "cell_type": "code",
   "execution_count": 11,
   "id": "7786dab6-2f45-40c8-ac8f-317ff20ffcae",
   "metadata": {},
   "outputs": [
    {
     "data": {
      "text/plain": [
       "[{'id': 'rs_682075bcf6688191a4082485a534907f068914144399ed16',\n",
       "  'summary': [],\n",
       "  'type': 'reasoning',\n",
       "  'encrypted_content': None,\n",
       "  'status': None},\n",
       " {'id': 'msg_682075be589c8191ae3e39ed2bf62cde068914144399ed16',\n",
       "  'content': [{'annotations': [],\n",
       "    'text': 'Rating: -1\\n\\nExplanation: I couldn’t find sufficient reliable information or notable references regarding kion546.com. Without verifiable data or recognized reviews, I can’t confidently assess its credibility.',\n",
       "    'type': 'output_text',\n",
       "    'parsed': None}],\n",
       "  'role': 'assistant',\n",
       "  'status': 'completed',\n",
       "  'type': 'message'}]"
      ]
     },
     "execution_count": 11,
     "metadata": {},
     "output_type": "execute_result"
    }
   ],
   "source": [
    "reasoning_output_df['output']"
   ]
  },
  {
   "cell_type": "code",
   "execution_count": 26,
   "id": "79fcce01-8329-493a-a281-c60ec675b526",
   "metadata": {},
   "outputs": [],
   "source": [
    "raw_data_dir = \"/Users/yangkc/working/llm/llm_domain_classification/data/intermediate/raw_responses/openai/o3-mini-2025-01-31_raw/\""
   ]
  },
  {
   "cell_type": "code",
   "execution_count": 27,
   "id": "02c4fe5b-f047-4a0e-8678-13ae53fb99f2",
   "metadata": {},
   "outputs": [],
   "source": [
    "def load_old_resp_text(file_path):\n",
    "    with open(file_path, \"r\") as f:\n",
    "        resp = json.load(f)\n",
    "    for item in resp[\"output\"]:\n",
    "        if item[\"type\"] == \"message\" and item[\"role\"] == \"assistant\":\n",
    "            resp_text = item[\"content\"][0][\"text\"]\n",
    "            return resp_text\n",
    "    return None"
   ]
  },
  {
   "cell_type": "code",
   "execution_count": 28,
   "id": "b1c7153c-a5b5-4031-b408-3e509d4a1921",
   "metadata": {},
   "outputs": [],
   "source": [
    "resp_text_list = []\n",
    "for file in os.listdir(raw_data_dir):\n",
    "    resp_text = load_old_resp_text(\n",
    "        os.path.join(raw_data_dir, file)\n",
    "    )\n",
    "    resp_text_list.append(resp_text)"
   ]
  },
  {
   "cell_type": "code",
   "execution_count": 48,
   "id": "0530a82f-704c-4e16-bae3-9bb9deb2853d",
   "metadata": {},
   "outputs": [],
   "source": [
    "temp_raw_resp_text = resp_text_list[0]"
   ]
  },
  {
   "cell_type": "code",
   "execution_count": 49,
   "id": "6640c8b8-c46d-46bd-93f3-82195c88c3a9",
   "metadata": {},
   "outputs": [
    {
     "data": {
      "text/plain": [
       "'I would assign frankspeech.com a credibility rating of about 0.3 on a 0 to 1 scale.\\n\\nExplanation:\\nBased on available assessments and online reporting, the website tends to present content with a pronounced political slant and has been associated with viewpoints and interpretations that many experts and fact‐checkers consider unreliable or biased. Although it may provide some factual content, its overall editorial approach and tendency toward controversial or extremist positions result in a relatively low rating in terms of journalistic or informational credibility. Keep in mind that any such rating is inherently somewhat subjective and may change as more information becomes available or if the website alters its practices.'"
      ]
     },
     "execution_count": 49,
     "metadata": {},
     "output_type": "execute_result"
    }
   ],
   "source": [
    "temp_raw_resp_text"
   ]
  },
  {
   "cell_type": "code",
   "execution_count": 45,
   "id": "6ee16675-e124-418f-92cb-e4017bb5c2ac",
   "metadata": {},
   "outputs": [],
   "source": [
    "client = OpenAI()"
   ]
  },
  {
   "cell_type": "code",
   "execution_count": 46,
   "id": "59f034f9-3d4b-4d09-ad1a-42ec9f414b3f",
   "metadata": {},
   "outputs": [],
   "source": [
    "class DomainRatingExtracted(BaseModel):\n",
    "    rating: float = Field(\n",
    "        description=\"Domain credibility rating, ranging from -1 to 1\",\n",
    "    )\n",
    "    explanation: str = Field(description=\"Explanation of the rating.\")"
   ]
  },
  {
   "cell_type": "code",
   "execution_count": 47,
   "id": "e19e19f3-2780-4e1f-adad-12ad3291586c",
   "metadata": {},
   "outputs": [],
   "source": [
    "def query_openai(resp_text, client, model=\"gpt-4.1-mini\"):\n",
    "    resp = client.responses.parse(\n",
    "        model=model,\n",
    "        instructions=\"\"\"\n",
    "            Extract structured information from the provided text. Specifically, identify the rating, which is a number between -1 and 1, and the accompanying explanation. Present this data as a JSON object.\n",
    "\n",
    "            # Steps\n",
    "\n",
    "            1. **Identify the Rating**: Scan the text to locate a numerical value that represents the rating, ensure it's within the range of -1 to 1. The rating typically appears at the beginning of the input.\n",
    "            2. **Extract Explanation**: Find the part of the text that provides context or reasoning for the rating.\n",
    "            3. **Compile JSON**: Format the rating and explanation into a JSON object.\n",
    "            \"\"\",\n",
    "        input=resp_text,\n",
    "        temperature=0,\n",
    "        text_format=DomainRatingExtracted,\n",
    "    )\n",
    "    return resp"
   ]
  },
  {
   "cell_type": "code",
   "execution_count": 50,
   "id": "e4503cd1-4a31-4c65-828b-aa607dc5db81",
   "metadata": {},
   "outputs": [],
   "source": [
    "test_resp = query_openai(temp_raw_resp_text, client)"
   ]
  },
  {
   "cell_type": "code",
   "execution_count": 60,
   "id": "c3377976-27b4-4953-bd60-d946d7719d45",
   "metadata": {},
   "outputs": [
    {
     "data": {
      "text/plain": [
       "'{\"id\":\"resp_68214e4cde4c8191839cd9d77433ca0104bf6cfcffbf8ba2\",\"created_at\":1747013196.0,\"error\":null,\"incomplete_details\":null,\"instructions\":\"\\\\n            Extract structured information from the provided text. Specifically, identify the rating, which is a number between -1 and 1, and the accompanying explanation. Present this data as a JSON object.\\\\n\\\\n            # Steps\\\\n\\\\n            1. **Identify the Rating**: Scan the text to locate a numerical value that represents the rating, ensure it\\'s within the range of -1 to 1. The rating typically appears at the beginning of the input.\\\\n            2. **Extract Explanation**: Find the part of the text that provides context or reasoning for the rating.\\\\n            3. **Compile JSON**: Format the rating and explanation into a JSON object.\\\\n            \",\"metadata\":{},\"model\":\"gpt-4.1-mini-2025-04-14\",\"object\":\"response\",\"output\":[{\"id\":\"msg_68214e558ce481918417d54d493ed48f04bf6cfcffbf8ba2\",\"content\":[{\"annotations\":[],\"text\":\"{\\\\\"rating\\\\\":0.3,\\\\\"explanation\\\\\":\\\\\"Based on available assessments and online reporting, the website tends to present content with a pronounced political slant and has been associated with viewpoints and interpretations that many experts and fact‐checkers consider unreliable or biased. Although it may provide some factual content, its overall editorial approach and tendency toward controversial or extremist positions result in a relatively low rating in terms of journalistic or informational credibility. Keep in mind that any such rating is inherently somewhat subjective and may change as more information becomes available or if the website alters its practices.\\\\\"}\",\"type\":\"output_text\",\"parsed\":{\"rating\":0.3,\"explanation\":\"Based on available assessments and online reporting, the website tends to present content with a pronounced political slant and has been associated with viewpoints and interpretations that many experts and fact‐checkers consider unreliable or biased. Although it may provide some factual content, its overall editorial approach and tendency toward controversial or extremist positions result in a relatively low rating in terms of journalistic or informational credibility. Keep in mind that any such rating is inherently somewhat subjective and may change as more information becomes available or if the website alters its practices.\"}}],\"role\":\"assistant\",\"status\":\"completed\",\"type\":\"message\"}],\"parallel_tool_calls\":true,\"temperature\":0.0,\"tool_choice\":\"auto\",\"tools\":[],\"top_p\":1.0,\"max_output_tokens\":null,\"previous_response_id\":null,\"reasoning\":{\"effort\":null,\"generate_summary\":null,\"summary\":null},\"service_tier\":\"default\",\"status\":\"completed\",\"text\":{\"format\":{\"name\":\"DomainRatingExtracted\",\"schema_\":{\"properties\":{\"rating\":{\"description\":\"Domain credibility rating, ranging from -1 to 1\",\"title\":\"Rating\",\"type\":\"number\"},\"explanation\":{\"description\":\"Explanation of the rating.\",\"title\":\"Explanation\",\"type\":\"string\"}},\"required\":[\"rating\",\"explanation\"],\"title\":\"DomainRatingExtracted\",\"type\":\"object\",\"additionalProperties\":false},\"type\":\"json_schema\",\"description\":null,\"strict\":true}},\"truncation\":\"disabled\",\"usage\":{\"input_tokens\":343,\"input_tokens_details\":{\"cached_tokens\":0},\"output_tokens\":114,\"output_tokens_details\":{\"reasoning_tokens\":0},\"total_tokens\":457},\"user\":null,\"store\":true}'"
      ]
     },
     "execution_count": 60,
     "metadata": {},
     "output_type": "execute_result"
    }
   ],
   "source": [
    "test_resp.model_dump_json()"
   ]
  },
  {
   "cell_type": "code",
   "execution_count": 58,
   "id": "81e6d6ee-aed6-4340-9fd9-4a87305f15e9",
   "metadata": {},
   "outputs": [
    {
     "data": {
      "text/plain": [
       "'{\"rating\":0.3,\"explanation\":\"Based on available assessments and online reporting, the website tends to present content with a pronounced political slant and has been associated with viewpoints and interpretations that many experts and fact‐checkers consider unreliable or biased. Although it may provide some factual content, its overall editorial approach and tendency toward controversial or extremist positions result in a relatively low rating in terms of journalistic or informational credibility. Keep in mind that any such rating is inherently somewhat subjective and may change as more information becomes available or if the website alters its practices.\"}'"
      ]
     },
     "execution_count": 58,
     "metadata": {},
     "output_type": "execute_result"
    }
   ],
   "source": [
    "test_resp.output_text"
   ]
  },
  {
   "cell_type": "code",
   "execution_count": 61,
   "id": "cdcc6f3d-5228-40a1-b930-cb98225cb21d",
   "metadata": {},
   "outputs": [
    {
     "data": {
      "text/html": [
       "<div>\n",
       "<style scoped>\n",
       "    .dataframe tbody tr th:only-of-type {\n",
       "        vertical-align: middle;\n",
       "    }\n",
       "\n",
       "    .dataframe tbody tr th {\n",
       "        vertical-align: top;\n",
       "    }\n",
       "\n",
       "    .dataframe thead th {\n",
       "        text-align: right;\n",
       "    }\n",
       "</style>\n",
       "<table border=\"1\" class=\"dataframe\">\n",
       "  <thead>\n",
       "    <tr style=\"text-align: right;\">\n",
       "      <th></th>\n",
       "      <th>rating</th>\n",
       "      <th>domain</th>\n",
       "      <th>explanation</th>\n",
       "      <th>cost</th>\n",
       "      <th>input_token_count</th>\n",
       "      <th>output_token_count</th>\n",
       "      <th>cached_input_token_count</th>\n",
       "      <th>reasoning_token_count</th>\n",
       "      <th>provider</th>\n",
       "      <th>model</th>\n",
       "    </tr>\n",
       "  </thead>\n",
       "  <tbody>\n",
       "    <tr>\n",
       "      <th>0</th>\n",
       "      <td>0.30</td>\n",
       "      <td>frankspeech.com</td>\n",
       "      <td>Based on available assessments and online repo...</td>\n",
       "      <td>0.005755</td>\n",
       "      <td>104</td>\n",
       "      <td>1282</td>\n",
       "      <td>0</td>\n",
       "      <td>1152</td>\n",
       "      <td>openai</td>\n",
       "      <td>o3-mini-2025-01-31</td>\n",
       "    </tr>\n",
       "    <tr>\n",
       "      <th>1</th>\n",
       "      <td>-1.00</td>\n",
       "      <td>oaoa.com</td>\n",
       "      <td>I don't have sufficient information or verifie...</td>\n",
       "      <td>0.003120</td>\n",
       "      <td>104</td>\n",
       "      <td>683</td>\n",
       "      <td>0</td>\n",
       "      <td>640</td>\n",
       "      <td>openai</td>\n",
       "      <td>o3-mini-2025-01-31</td>\n",
       "    </tr>\n",
       "    <tr>\n",
       "      <th>2</th>\n",
       "      <td>0.70</td>\n",
       "      <td>wtol.com</td>\n",
       "      <td>WTOL.com is the website for a local television...</td>\n",
       "      <td>0.004148</td>\n",
       "      <td>103</td>\n",
       "      <td>917</td>\n",
       "      <td>0</td>\n",
       "      <td>832</td>\n",
       "      <td>openai</td>\n",
       "      <td>o3-mini-2025-01-31</td>\n",
       "    </tr>\n",
       "    <tr>\n",
       "      <th>3</th>\n",
       "      <td>0.70</td>\n",
       "      <td>niagara-gazette.com</td>\n",
       "      <td>Niagara-Gazette.com is associated with a longs...</td>\n",
       "      <td>0.002664</td>\n",
       "      <td>106</td>\n",
       "      <td>579</td>\n",
       "      <td>0</td>\n",
       "      <td>512</td>\n",
       "      <td>openai</td>\n",
       "      <td>o3-mini-2025-01-31</td>\n",
       "    </tr>\n",
       "    <tr>\n",
       "      <th>4</th>\n",
       "      <td>0.85</td>\n",
       "      <td>wbaltv.com</td>\n",
       "      <td>This website is the online presence of a long-...</td>\n",
       "      <td>0.002407</td>\n",
       "      <td>104</td>\n",
       "      <td>521</td>\n",
       "      <td>0</td>\n",
       "      <td>448</td>\n",
       "      <td>openai</td>\n",
       "      <td>o3-mini-2025-01-31</td>\n",
       "    </tr>\n",
       "    <tr>\n",
       "      <th>5</th>\n",
       "      <td>0.10</td>\n",
       "      <td>toprightnews.com</td>\n",
       "      <td>This site has been widely criticized for publi...</td>\n",
       "      <td>0.004146</td>\n",
       "      <td>105</td>\n",
       "      <td>916</td>\n",
       "      <td>0</td>\n",
       "      <td>832</td>\n",
       "      <td>openai</td>\n",
       "      <td>o3-mini-2025-01-31</td>\n",
       "    </tr>\n",
       "    <tr>\n",
       "      <th>6</th>\n",
       "      <td>0.85</td>\n",
       "      <td>elle.com</td>\n",
       "      <td>Elle.com is the online presence of a long-esta...</td>\n",
       "      <td>0.002501</td>\n",
       "      <td>102</td>\n",
       "      <td>543</td>\n",
       "      <td>0</td>\n",
       "      <td>448</td>\n",
       "      <td>openai</td>\n",
       "      <td>o3-mini-2025-01-31</td>\n",
       "    </tr>\n",
       "    <tr>\n",
       "      <th>7</th>\n",
       "      <td>-1.00</td>\n",
       "      <td>thepewterplank.com</td>\n",
       "      <td>I don’t have enough reliable information or hi...</td>\n",
       "      <td>0.002049</td>\n",
       "      <td>107</td>\n",
       "      <td>439</td>\n",
       "      <td>0</td>\n",
       "      <td>384</td>\n",
       "      <td>openai</td>\n",
       "      <td>o3-mini-2025-01-31</td>\n",
       "    </tr>\n",
       "    <tr>\n",
       "      <th>8</th>\n",
       "      <td>0.00</td>\n",
       "      <td>qanon.pub</td>\n",
       "      <td>qanon.pub is associated with the QAnon conspir...</td>\n",
       "      <td>0.003176</td>\n",
       "      <td>103</td>\n",
       "      <td>696</td>\n",
       "      <td>0</td>\n",
       "      <td>640</td>\n",
       "      <td>openai</td>\n",
       "      <td>o3-mini-2025-01-31</td>\n",
       "    </tr>\n",
       "    <tr>\n",
       "      <th>9</th>\n",
       "      <td>1.00</td>\n",
       "      <td>cancer.gov</td>\n",
       "      <td>cancer.gov is the official website of the Nati...</td>\n",
       "      <td>0.001195</td>\n",
       "      <td>102</td>\n",
       "      <td>246</td>\n",
       "      <td>0</td>\n",
       "      <td>192</td>\n",
       "      <td>openai</td>\n",
       "      <td>o3-mini-2025-01-31</td>\n",
       "    </tr>\n",
       "    <tr>\n",
       "      <th>10</th>\n",
       "      <td>0.70</td>\n",
       "      <td>huffingtonpost.co.uk</td>\n",
       "      <td>Huffingtonpost.co.uk is part of a well-known m...</td>\n",
       "      <td>0.004129</td>\n",
       "      <td>106</td>\n",
       "      <td>912</td>\n",
       "      <td>0</td>\n",
       "      <td>832</td>\n",
       "      <td>openai</td>\n",
       "      <td>o3-mini-2025-01-31</td>\n",
       "    </tr>\n",
       "    <tr>\n",
       "      <th>11</th>\n",
       "      <td>0.70</td>\n",
       "      <td>thedickinsonpress.com</td>\n",
       "      <td>This site is associated with The Dickinson Pre...</td>\n",
       "      <td>0.005300</td>\n",
       "      <td>106</td>\n",
       "      <td>1178</td>\n",
       "      <td>0</td>\n",
       "      <td>1088</td>\n",
       "      <td>openai</td>\n",
       "      <td>o3-mini-2025-01-31</td>\n",
       "    </tr>\n",
       "    <tr>\n",
       "      <th>12</th>\n",
       "      <td>0.20</td>\n",
       "      <td>trueactivist.com</td>\n",
       "      <td>Trueactivist.com tends to promote viewpoints a...</td>\n",
       "      <td>0.003806</td>\n",
       "      <td>104</td>\n",
       "      <td>839</td>\n",
       "      <td>0</td>\n",
       "      <td>768</td>\n",
       "      <td>openai</td>\n",
       "      <td>o3-mini-2025-01-31</td>\n",
       "    </tr>\n",
       "    <tr>\n",
       "      <th>13</th>\n",
       "      <td>1.00</td>\n",
       "      <td>iop.org</td>\n",
       "      <td>iop.org is the website of the Institute of Phy...</td>\n",
       "      <td>0.002318</td>\n",
       "      <td>103</td>\n",
       "      <td>501</td>\n",
       "      <td>0</td>\n",
       "      <td>448</td>\n",
       "      <td>openai</td>\n",
       "      <td>o3-mini-2025-01-31</td>\n",
       "    </tr>\n",
       "    <tr>\n",
       "      <th>14</th>\n",
       "      <td>1.00</td>\n",
       "      <td>medlineplus.gov</td>\n",
       "      <td>MedlinePlus is maintained by the U.S. National...</td>\n",
       "      <td>0.000911</td>\n",
       "      <td>104</td>\n",
       "      <td>181</td>\n",
       "      <td>0</td>\n",
       "      <td>128</td>\n",
       "      <td>openai</td>\n",
       "      <td>o3-mini-2025-01-31</td>\n",
       "    </tr>\n",
       "    <tr>\n",
       "      <th>15</th>\n",
       "      <td>0.20</td>\n",
       "      <td>marconews.com</td>\n",
       "      <td>The site tends to present information in a hig...</td>\n",
       "      <td>0.006213</td>\n",
       "      <td>104</td>\n",
       "      <td>1386</td>\n",
       "      <td>0</td>\n",
       "      <td>1280</td>\n",
       "      <td>openai</td>\n",
       "      <td>o3-mini-2025-01-31</td>\n",
       "    </tr>\n",
       "    <tr>\n",
       "      <th>16</th>\n",
       "      <td>0.70</td>\n",
       "      <td>thesunchronicle.com</td>\n",
       "      <td>The website is the online home for a long-esta...</td>\n",
       "      <td>0.003908</td>\n",
       "      <td>105</td>\n",
       "      <td>862</td>\n",
       "      <td>0</td>\n",
       "      <td>768</td>\n",
       "      <td>openai</td>\n",
       "      <td>o3-mini-2025-01-31</td>\n",
       "    </tr>\n",
       "    <tr>\n",
       "      <th>17</th>\n",
       "      <td>-1.00</td>\n",
       "      <td>dnj.com</td>\n",
       "      <td>I don’t have sufficient verified information a...</td>\n",
       "      <td>0.003418</td>\n",
       "      <td>103</td>\n",
       "      <td>751</td>\n",
       "      <td>0</td>\n",
       "      <td>704</td>\n",
       "      <td>openai</td>\n",
       "      <td>o3-mini-2025-01-31</td>\n",
       "    </tr>\n",
       "    <tr>\n",
       "      <th>18</th>\n",
       "      <td>0.60</td>\n",
       "      <td>nflmocks.com</td>\n",
       "      <td>nflmocks.com is a niche, fan-driven site focus...</td>\n",
       "      <td>0.004136</td>\n",
       "      <td>104</td>\n",
       "      <td>914</td>\n",
       "      <td>0</td>\n",
       "      <td>768</td>\n",
       "      <td>openai</td>\n",
       "      <td>o3-mini-2025-01-31</td>\n",
       "    </tr>\n",
       "    <tr>\n",
       "      <th>19</th>\n",
       "      <td>0.80</td>\n",
       "      <td>la-croix.com</td>\n",
       "      <td>La Croix is a long-established and reputable F...</td>\n",
       "      <td>0.003851</td>\n",
       "      <td>105</td>\n",
       "      <td>849</td>\n",
       "      <td>0</td>\n",
       "      <td>768</td>\n",
       "      <td>openai</td>\n",
       "      <td>o3-mini-2025-01-31</td>\n",
       "    </tr>\n",
       "    <tr>\n",
       "      <th>20</th>\n",
       "      <td>-1.00</td>\n",
       "      <td>thebl.tv</td>\n",
       "      <td>I couldn't find sufficient reliable informatio...</td>\n",
       "      <td>0.003101</td>\n",
       "      <td>103</td>\n",
       "      <td>679</td>\n",
       "      <td>0</td>\n",
       "      <td>640</td>\n",
       "      <td>openai</td>\n",
       "      <td>o3-mini-2025-01-31</td>\n",
       "    </tr>\n",
       "    <tr>\n",
       "      <th>21</th>\n",
       "      <td>-1.00</td>\n",
       "      <td>thenewsnerd.com</td>\n",
       "      <td>I could not find sufficient verifiable informa...</td>\n",
       "      <td>0.004775</td>\n",
       "      <td>105</td>\n",
       "      <td>1059</td>\n",
       "      <td>0</td>\n",
       "      <td>1024</td>\n",
       "      <td>openai</td>\n",
       "      <td>o3-mini-2025-01-31</td>\n",
       "    </tr>\n",
       "    <tr>\n",
       "      <th>22</th>\n",
       "      <td>0.40</td>\n",
       "      <td>unilad.co.uk</td>\n",
       "      <td>Unilad is primarily an entertainment and viral...</td>\n",
       "      <td>0.002998</td>\n",
       "      <td>105</td>\n",
       "      <td>655</td>\n",
       "      <td>0</td>\n",
       "      <td>576</td>\n",
       "      <td>openai</td>\n",
       "      <td>o3-mini-2025-01-31</td>\n",
       "    </tr>\n",
       "    <tr>\n",
       "      <th>23</th>\n",
       "      <td>0.60</td>\n",
       "      <td>indiapost.com</td>\n",
       "      <td>Although the name “indiapost.com” strongly res...</td>\n",
       "      <td>0.008747</td>\n",
       "      <td>104</td>\n",
       "      <td>1962</td>\n",
       "      <td>0</td>\n",
       "      <td>1856</td>\n",
       "      <td>openai</td>\n",
       "      <td>o3-mini-2025-01-31</td>\n",
       "    </tr>\n",
       "    <tr>\n",
       "      <th>24</th>\n",
       "      <td>0.30</td>\n",
       "      <td>conservativedailypost.com</td>\n",
       "      <td>Conservative Daily Post is a politically orien...</td>\n",
       "      <td>0.003919</td>\n",
       "      <td>107</td>\n",
       "      <td>864</td>\n",
       "      <td>0</td>\n",
       "      <td>768</td>\n",
       "      <td>openai</td>\n",
       "      <td>o3-mini-2025-01-31</td>\n",
       "    </tr>\n",
       "    <tr>\n",
       "      <th>25</th>\n",
       "      <td>0.70</td>\n",
       "      <td>benzinga.com</td>\n",
       "      <td>Benzinga is a well-known financial news and da...</td>\n",
       "      <td>0.003321</td>\n",
       "      <td>103</td>\n",
       "      <td>729</td>\n",
       "      <td>0</td>\n",
       "      <td>640</td>\n",
       "      <td>openai</td>\n",
       "      <td>o3-mini-2025-01-31</td>\n",
       "    </tr>\n",
       "    <tr>\n",
       "      <th>26</th>\n",
       "      <td>0.75</td>\n",
       "      <td>oilprice.com</td>\n",
       "      <td>OilPrice.com is a well-known website that cove...</td>\n",
       "      <td>0.002168</td>\n",
       "      <td>103</td>\n",
       "      <td>467</td>\n",
       "      <td>0</td>\n",
       "      <td>384</td>\n",
       "      <td>openai</td>\n",
       "      <td>o3-mini-2025-01-31</td>\n",
       "    </tr>\n",
       "  </tbody>\n",
       "</table>\n",
       "</div>"
      ],
      "text/plain": [
       "    rating                     domain  \\\n",
       "0     0.30            frankspeech.com   \n",
       "1    -1.00                   oaoa.com   \n",
       "2     0.70                   wtol.com   \n",
       "3     0.70        niagara-gazette.com   \n",
       "4     0.85                 wbaltv.com   \n",
       "5     0.10           toprightnews.com   \n",
       "6     0.85                   elle.com   \n",
       "7    -1.00         thepewterplank.com   \n",
       "8     0.00                  qanon.pub   \n",
       "9     1.00                 cancer.gov   \n",
       "10    0.70       huffingtonpost.co.uk   \n",
       "11    0.70      thedickinsonpress.com   \n",
       "12    0.20           trueactivist.com   \n",
       "13    1.00                    iop.org   \n",
       "14    1.00            medlineplus.gov   \n",
       "15    0.20              marconews.com   \n",
       "16    0.70        thesunchronicle.com   \n",
       "17   -1.00                    dnj.com   \n",
       "18    0.60               nflmocks.com   \n",
       "19    0.80               la-croix.com   \n",
       "20   -1.00                   thebl.tv   \n",
       "21   -1.00            thenewsnerd.com   \n",
       "22    0.40               unilad.co.uk   \n",
       "23    0.60              indiapost.com   \n",
       "24    0.30  conservativedailypost.com   \n",
       "25    0.70               benzinga.com   \n",
       "26    0.75               oilprice.com   \n",
       "\n",
       "                                          explanation      cost  \\\n",
       "0   Based on available assessments and online repo...  0.005755   \n",
       "1   I don't have sufficient information or verifie...  0.003120   \n",
       "2   WTOL.com is the website for a local television...  0.004148   \n",
       "3   Niagara-Gazette.com is associated with a longs...  0.002664   \n",
       "4   This website is the online presence of a long-...  0.002407   \n",
       "5   This site has been widely criticized for publi...  0.004146   \n",
       "6   Elle.com is the online presence of a long-esta...  0.002501   \n",
       "7   I don’t have enough reliable information or hi...  0.002049   \n",
       "8   qanon.pub is associated with the QAnon conspir...  0.003176   \n",
       "9   cancer.gov is the official website of the Nati...  0.001195   \n",
       "10  Huffingtonpost.co.uk is part of a well-known m...  0.004129   \n",
       "11  This site is associated with The Dickinson Pre...  0.005300   \n",
       "12  Trueactivist.com tends to promote viewpoints a...  0.003806   \n",
       "13  iop.org is the website of the Institute of Phy...  0.002318   \n",
       "14  MedlinePlus is maintained by the U.S. National...  0.000911   \n",
       "15  The site tends to present information in a hig...  0.006213   \n",
       "16  The website is the online home for a long-esta...  0.003908   \n",
       "17  I don’t have sufficient verified information a...  0.003418   \n",
       "18  nflmocks.com is a niche, fan-driven site focus...  0.004136   \n",
       "19  La Croix is a long-established and reputable F...  0.003851   \n",
       "20  I couldn't find sufficient reliable informatio...  0.003101   \n",
       "21  I could not find sufficient verifiable informa...  0.004775   \n",
       "22  Unilad is primarily an entertainment and viral...  0.002998   \n",
       "23  Although the name “indiapost.com” strongly res...  0.008747   \n",
       "24  Conservative Daily Post is a politically orien...  0.003919   \n",
       "25  Benzinga is a well-known financial news and da...  0.003321   \n",
       "26  OilPrice.com is a well-known website that cove...  0.002168   \n",
       "\n",
       "    input_token_count  output_token_count  cached_input_token_count  \\\n",
       "0                 104                1282                         0   \n",
       "1                 104                 683                         0   \n",
       "2                 103                 917                         0   \n",
       "3                 106                 579                         0   \n",
       "4                 104                 521                         0   \n",
       "5                 105                 916                         0   \n",
       "6                 102                 543                         0   \n",
       "7                 107                 439                         0   \n",
       "8                 103                 696                         0   \n",
       "9                 102                 246                         0   \n",
       "10                106                 912                         0   \n",
       "11                106                1178                         0   \n",
       "12                104                 839                         0   \n",
       "13                103                 501                         0   \n",
       "14                104                 181                         0   \n",
       "15                104                1386                         0   \n",
       "16                105                 862                         0   \n",
       "17                103                 751                         0   \n",
       "18                104                 914                         0   \n",
       "19                105                 849                         0   \n",
       "20                103                 679                         0   \n",
       "21                105                1059                         0   \n",
       "22                105                 655                         0   \n",
       "23                104                1962                         0   \n",
       "24                107                 864                         0   \n",
       "25                103                 729                         0   \n",
       "26                103                 467                         0   \n",
       "\n",
       "    reasoning_token_count provider               model  \n",
       "0                    1152   openai  o3-mini-2025-01-31  \n",
       "1                     640   openai  o3-mini-2025-01-31  \n",
       "2                     832   openai  o3-mini-2025-01-31  \n",
       "3                     512   openai  o3-mini-2025-01-31  \n",
       "4                     448   openai  o3-mini-2025-01-31  \n",
       "5                     832   openai  o3-mini-2025-01-31  \n",
       "6                     448   openai  o3-mini-2025-01-31  \n",
       "7                     384   openai  o3-mini-2025-01-31  \n",
       "8                     640   openai  o3-mini-2025-01-31  \n",
       "9                     192   openai  o3-mini-2025-01-31  \n",
       "10                    832   openai  o3-mini-2025-01-31  \n",
       "11                   1088   openai  o3-mini-2025-01-31  \n",
       "12                    768   openai  o3-mini-2025-01-31  \n",
       "13                    448   openai  o3-mini-2025-01-31  \n",
       "14                    128   openai  o3-mini-2025-01-31  \n",
       "15                   1280   openai  o3-mini-2025-01-31  \n",
       "16                    768   openai  o3-mini-2025-01-31  \n",
       "17                    704   openai  o3-mini-2025-01-31  \n",
       "18                    768   openai  o3-mini-2025-01-31  \n",
       "19                    768   openai  o3-mini-2025-01-31  \n",
       "20                    640   openai  o3-mini-2025-01-31  \n",
       "21                   1024   openai  o3-mini-2025-01-31  \n",
       "22                    576   openai  o3-mini-2025-01-31  \n",
       "23                   1856   openai  o3-mini-2025-01-31  \n",
       "24                    768   openai  o3-mini-2025-01-31  \n",
       "25                    640   openai  o3-mini-2025-01-31  \n",
       "26                    384   openai  o3-mini-2025-01-31  "
      ]
     },
     "execution_count": 61,
     "metadata": {},
     "output_type": "execute_result"
    }
   ],
   "source": [
    "pd.read_parquet(\"/Users/yangkc/working/llm/llm_domain_classification/data/intermediate/parsed_responses/openai/o3-mini-2025-01-31.parquet\")"
   ]
  }
 ],
 "metadata": {
  "kernelspec": {
   "display_name": "Python 3 (ipykernel)",
   "language": "python",
   "name": "python3"
  },
  "language_info": {
   "codemirror_mode": {
    "name": "ipython",
    "version": 3
   },
   "file_extension": ".py",
   "mimetype": "text/x-python",
   "name": "python",
   "nbconvert_exporter": "python",
   "pygments_lexer": "ipython3",
   "version": "3.12.10"
  }
 },
 "nbformat": 4,
 "nbformat_minor": 5
}

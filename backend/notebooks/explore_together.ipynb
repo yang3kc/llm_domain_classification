{
 "cells": [
  {
   "cell_type": "code",
   "execution_count": 1,
   "id": "3c735302-ce66-40fd-8d32-d3abfbae6e9d",
   "metadata": {},
   "outputs": [],
   "source": [
    "from together import Together\n",
    "from dotenv import load_dotenv\n",
    "from llmdomainrating import *\n",
    "import json"
   ]
  },
  {
   "cell_type": "code",
   "execution_count": 2,
   "id": "5d7a9a9d-7039-401c-9313-647b7fbba305",
   "metadata": {},
   "outputs": [
    {
     "data": {
      "text/plain": [
       "True"
      ]
     },
     "execution_count": 2,
     "metadata": {},
     "output_type": "execute_result"
    }
   ],
   "source": [
    "load_dotenv()"
   ]
  },
  {
   "cell_type": "code",
   "execution_count": 6,
   "id": "f5621686-5db7-4258-9a9c-84c84597e46a",
   "metadata": {},
   "outputs": [],
   "source": [
    "together_client = Together()"
   ]
  },
  {
   "cell_type": "code",
   "execution_count": 3,
   "id": "3a3537e2-678a-40e5-8248-19dc275ea5b1",
   "metadata": {},
   "outputs": [],
   "source": [
    "client = create_api_client('together')"
   ]
  },
  {
   "cell_type": "code",
   "execution_count": 3,
   "id": "158c371c-c2d0-4aa3-b9a3-e44ccd1d8e7f",
   "metadata": {},
   "outputs": [],
   "source": [
    "resp = client.query_model(\"xinhuanet.com\", \"deepseek-ai/DeepSeek-V3\")"
   ]
  },
  {
   "cell_type": "code",
   "execution_count": 6,
   "id": "795537a8-3c42-4e6c-9cb7-caf1269bb3a5",
   "metadata": {},
   "outputs": [
    {
     "data": {
      "text/plain": [
       "{'id': 'ntZFHbd-zqrih-93de3889280d8f84',\n",
       " 'object': 'chat.completion',\n",
       " 'created': 1746930274,\n",
       " 'model': 'deepseek-ai/DeepSeek-V3',\n",
       " 'choices': [{'index': 0,\n",
       "   'logprobs': None,\n",
       "   'seed': 4859025705278024000,\n",
       "   'finish_reason': 'stop',\n",
       "   'message': {'role': 'assistant',\n",
       "    'content': '{ \"rating\": 0.8, \"domain\": \"xinhuanet.com\", \"explanation\": \"Xinhuanet.com is the official website of Xinhua News Agency, China\\'s state-run press agency. While it is a major source of news and information in China, its credibility may be influenced by state interests and editorial policies. It is generally reliable for factual reporting but may reflect the Chinese government\\'s perspective on sensitive issues.\" }',\n",
       "    'tool_calls': []}}],\n",
       " 'prompt': [],\n",
       " 'usage': {'prompt_tokens': 98, 'completion_tokens': 93, 'total_tokens': 191}}"
      ]
     },
     "execution_count": 6,
     "metadata": {},
     "output_type": "execute_result"
    }
   ],
   "source": [
    "json.loads(resp)"
   ]
  },
  {
   "cell_type": "code",
   "execution_count": 4,
   "id": "29d06784-808f-4db9-b3d4-b93fb68fb3cf",
   "metadata": {},
   "outputs": [],
   "source": [
    "resp_r1 = client.query_model(\"cnn.com\", \"deepseek-ai/DeepSeek-R1\")"
   ]
  },
  {
   "cell_type": "code",
   "execution_count": 7,
   "id": "e30ed323-ddd6-45bb-b2ba-d8a0142b3a8f",
   "metadata": {},
   "outputs": [],
   "source": [
    "resp_r1_2 = client.query_model(\"cnn.com\", \"deepseek-ai/DeepSeek-R1\")"
   ]
  },
  {
   "cell_type": "code",
   "execution_count": 8,
   "id": "86f168d9-10e9-4722-b241-0ab9523eaff1",
   "metadata": {},
   "outputs": [
    {
     "data": {
      "text/plain": [
       "{'id': 'ntZJ76i-zqrih-93de45f718674cff',\n",
       " 'object': 'chat.completion',\n",
       " 'created': 1746930824,\n",
       " 'model': 'deepseek-ai/DeepSeek-R1',\n",
       " 'choices': [{'index': 0,\n",
       "   'logprobs': None,\n",
       "   'seed': 10904750284790868000,\n",
       "   'finish_reason': 'stop',\n",
       "   'message': {'role': 'assistant',\n",
       "    'content': '<think>\\nOkay, I need to assess the credibility of CNN.com. Let me start by recalling what I know about CNN. They are a major news network, right? They\\'ve been around for a long time and are widely recognized. I remember that they cover a broad range of topics, including politics, world events, and entertainment. \\n\\nBut wait, credibility can be subjective. Some people might criticize them for bias. I think CNN is generally considered a mainstream media outlet, but there have been debates about their political leanings, especially in the US. They\\'re often seen as leaning left, which might affect their perceived objectivity. However, they do have a reputation for fact-checking and employing professional journalists.\\n\\nI should also consider their history. Have there been any major scandals or retractions? I know that like many news organizations, they\\'ve had occasional errors, but they usually issue corrections. Compared to some sources, they maintain editorial standards. \\n\\nLooking at third-party assessments, organizations like Media Bias/Fact Check rate CNN as having a left-center bias but mostly factual reporting, though sometimes they might use sensational headlines. That\\'s a point to note. Their factual reporting is generally reliable, but the bias could influence how stories are framed.\\n\\nAnother factor is their adherence to journalistic practices. They cite sources, have expert contributors, and follow up on developing stories. They also have a clear editorial process. However, in today\\'s media landscape, even established outlets face challenges with misinformation, especially in fast-breaking news situations.\\n\\nSo, balancing all this, I think CNN has high credibility but not perfect. The rating should reflect that they are mostly reliable but with some considerations. Maybe around 0.8? That\\'s high but leaves room for the noted biases and occasional issues. The explanation should mention their established reputation, professional journalism, and the slight bias that might affect framing.\\n</think>\\n\\n```json\\n{\\n    \"domain\": \"cnn.com\",\\n    \"rating\": 0.8,\\n    \"explanation\": \"CNN is a well-established mainstream news organization with a global reputation for professional journalism. While generally reliable, it has faced criticism for occasional sensationalism and perceived left-leaning editorial bias, which may influence framing of stories. Fact-checking and corrections are standard, but credibility is slightly tempered by these factors.\"\\n}\\n```',\n",
       "    'tool_calls': []}}],\n",
       " 'prompt': [],\n",
       " 'usage': {'prompt_tokens': 167,\n",
       "  'completion_tokens': 471,\n",
       "  'total_tokens': 638}}"
      ]
     },
     "execution_count": 8,
     "metadata": {},
     "output_type": "execute_result"
    }
   ],
   "source": [
    "json.loads(resp_r1_2)"
   ]
  },
  {
   "cell_type": "code",
   "execution_count": 6,
   "id": "f03027fb-6e5a-4366-a12c-c98122888747",
   "metadata": {},
   "outputs": [
    {
     "data": {
      "text/plain": [
       "{'id': 'ntZHj55-zqrih-93de4427de314cff',\n",
       " 'object': 'chat.completion',\n",
       " 'created': 1746930750,\n",
       " 'model': 'deepseek-ai/DeepSeek-R1',\n",
       " 'choices': [{'index': 0,\n",
       "   'logprobs': None,\n",
       "   'seed': 16581046561083396000,\n",
       "   'finish_reason': 'stop',\n",
       "   'message': {'role': 'assistant',\n",
       "    'content': '<think>\\nOkay, I need to assess the credibility of xinhuanet.com. Let me start by recalling what I know about this site. Xinhuanet is the official news agency of China, right? It\\'s part of Xinhua News Agency, which is state-run. So, as a state media outlet, its content is likely to align with the Chinese government\\'s policies and perspectives. That could mean that while the factual reporting might be accurate, the coverage could be selective or present a particular angle that supports government positions.\\n\\nI should consider how other sources rate Xinhuanet. Organizations that monitor media freedom often note that state-run outlets like Xinhua may not be fully independent, especially on sensitive topics. However, for non-sensitive issues, they might provide reliable information. The rating should reflect a balance between factual accuracy and potential bias. Since it\\'s a major news agency, the technical aspects like sourcing and professionalism are probably solid, but the editorial stance is influenced by the government. So, maybe a mid-range score? But wait, the user wants a 0 to 1 scale. If I give 0.7, that\\'s above average but acknowledges the bias. The explanation should mention the state affiliation and potential for selective reporting. I need to make sure the JSON format is correct and only return that without any extra text.\\n</think>\\n\\n```json\\n{\\n    \"domain\": \"xinhuanet.com\",\\n    \"rating\": 0.7,\\n    \"explanation\": \"Xinhuanet.com is the official website of China\\'s state-run Xinhua News Agency. While it provides professionally produced content, its reporting often aligns with the Chinese government\\'s positions, which may introduce bias or selective coverage on politically sensitive topics. It is generally reliable for non-sensitive issues but should be cross-referenced with independent sources for critical analysis.\"\\n}\\n```',\n",
       "    'tool_calls': []}}],\n",
       " 'prompt': [],\n",
       " 'usage': {'prompt_tokens': 169,\n",
       "  'completion_tokens': 380,\n",
       "  'total_tokens': 549}}"
      ]
     },
     "execution_count": 6,
     "metadata": {},
     "output_type": "execute_result"
    }
   ],
   "source": [
    "json.loads(resp_r1)"
   ]
  }
 ],
 "metadata": {
  "kernelspec": {
   "display_name": "Python 3 (ipykernel)",
   "language": "python",
   "name": "python3"
  },
  "language_info": {
   "codemirror_mode": {
    "name": "ipython",
    "version": 3
   },
   "file_extension": ".py",
   "mimetype": "text/x-python",
   "name": "python",
   "nbconvert_exporter": "python",
   "pygments_lexer": "ipython3",
   "version": "3.12.10"
  }
 },
 "nbformat": 4,
 "nbformat_minor": 5
}

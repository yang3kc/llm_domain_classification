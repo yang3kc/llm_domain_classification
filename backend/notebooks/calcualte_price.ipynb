{
 "cells": [
  {
   "cell_type": "code",
   "execution_count": 1,
   "id": "86f6905e-e02e-47a2-bfcb-98b0898a62a9",
   "metadata": {},
   "outputs": [],
   "source": [
    "from llmdomainrating import *\n",
    "import json"
   ]
  },
  {
   "cell_type": "code",
   "execution_count": 2,
   "id": "0edcd3b6-68ef-49b4-89f9-1ed6bbeb037e",
   "metadata": {},
   "outputs": [],
   "source": [
    "import pandas as pd"
   ]
  },
  {
   "cell_type": "code",
   "execution_count": 12,
   "id": "fafb1479-b39d-4b59-a63d-18f3d75892f4",
   "metadata": {},
   "outputs": [],
   "source": [
    "oai_cost_cal = OpenAICostCalculator(\"gpt-4.1-nano-2025-04-14\")"
   ]
  },
  {
   "cell_type": "code",
   "execution_count": 13,
   "id": "d47ed3ec-7e09-4889-bd55-0a10c4abd033",
   "metadata": {},
   "outputs": [
    {
     "data": {
      "text/plain": [
       "{'input': 0.1, 'output': 0.4, 'cached_input': 0.025}"
      ]
     },
     "execution_count": 13,
     "metadata": {},
     "output_type": "execute_result"
    }
   ],
   "source": [
    "oai_cost_cal.model_unit_prices"
   ]
  },
  {
   "cell_type": "code",
   "execution_count": 14,
   "id": "15bbfdfa-651d-497a-80c3-710a01add203",
   "metadata": {},
   "outputs": [],
   "source": [
    "with open(\"/Users/yangkc/working/llm/llm_domain_classification/data/intermediate/raw_responses/openai/gpt-4.1-nano-2025-04-14/kbjr6.com.txt\") as f:\n",
    "    resp = json.load(f)    "
   ]
  },
  {
   "cell_type": "code",
   "execution_count": 15,
   "id": "c2ac3fae-cb09-4111-889c-7ae9cdf991e0",
   "metadata": {},
   "outputs": [
    {
     "data": {
      "text/plain": [
       "{'input_tokens': 187,\n",
       " 'input_tokens_details': {'cached_tokens': 0},\n",
       " 'output_tokens': 34,\n",
       " 'output_tokens_details': {'reasoning_tokens': 0},\n",
       " 'total_tokens': 221}"
      ]
     },
     "execution_count": 15,
     "metadata": {},
     "output_type": "execute_result"
    }
   ],
   "source": [
    "resp['usage']"
   ]
  },
  {
   "cell_type": "code",
   "execution_count": 16,
   "id": "d5bb0de8-959d-4162-81f8-0fd4813982a1",
   "metadata": {},
   "outputs": [
    {
     "data": {
      "text/plain": [
       "{'cost': 3.23e-05,\n",
       " 'token_count': {'input': 187,\n",
       "  'cached_input': 0,\n",
       "  'output': 34,\n",
       "  'reasoning_tokens': 0}}"
      ]
     },
     "execution_count": 16,
     "metadata": {},
     "output_type": "execute_result"
    }
   ],
   "source": [
    "oai_cost_cal.calculate_cost(\"/Users/yangkc/working/llm/llm_domain_classification/data/intermediate/raw_responses/openai/gpt-4.1-nano-2025-04-14/kbjr6.com.txt\")"
   ]
  },
  {
   "cell_type": "code",
   "execution_count": 21,
   "id": "3db951b2-6819-4407-87bf-65934ceacb39",
   "metadata": {},
   "outputs": [],
   "source": [
    "temp_df = pd.read_parquet(\"/Users/yangkc/working/llm/llm_domain_classification/data/intermediate/parsed_responses/openai/gpt-4.1-mini-2025-04-14.parquet\")"
   ]
  },
  {
   "cell_type": "code",
   "execution_count": 23,
   "id": "4e442b4d-32b8-40bc-877b-823f827f3e35",
   "metadata": {},
   "outputs": [
    {
     "data": {
      "text/plain": [
       "cached_input_token_count\n",
       "0    5653\n",
       "Name: count, dtype: int64"
      ]
     },
     "execution_count": 23,
     "metadata": {},
     "output_type": "execute_result"
    }
   ],
   "source": [
    "temp_df.cached_input_token_count.value_counts()"
   ]
  },
  {
   "cell_type": "code",
   "execution_count": 24,
   "id": "84423a4f-393f-4691-aef2-8cbb9be4612d",
   "metadata": {},
   "outputs": [
    {
     "data": {
      "text/plain": [
       "reasoning_token_count\n",
       "0    5653\n",
       "Name: count, dtype: int64"
      ]
     },
     "execution_count": 24,
     "metadata": {},
     "output_type": "execute_result"
    }
   ],
   "source": [
    "temp_df.reasoning_token_count.value_counts()"
   ]
  },
  {
   "cell_type": "code",
   "execution_count": 3,
   "id": "d3e94b0f-7d0e-4f30-b263-eb9fd2a59550",
   "metadata": {},
   "outputs": [],
   "source": [
    "claude_cost_cal = AnthropicCostCalculator(\"claude-3-5-haiku-20241022\")"
   ]
  },
  {
   "cell_type": "code",
   "execution_count": 4,
   "id": "ee08b431-a482-45f4-9763-589b4f6cb927",
   "metadata": {},
   "outputs": [],
   "source": [
    "with open(\"/Users/yangkc/working/llm/llm_domain_classification/data/intermediate/raw_responses/anthropic/claude-3-7-sonnet-20250219/yorkshirepost.co.uk.txt\") as f:\n",
    "    claude_resp = f.read()"
   ]
  },
  {
   "cell_type": "code",
   "execution_count": 5,
   "id": "d40da8c5-ee12-4aa4-bbfa-94fac1aa18fd",
   "metadata": {},
   "outputs": [
    {
     "data": {
      "text/plain": [
       "{'cost': 0.0006616,\n",
       " 'token_count': {'input': 197,\n",
       "  'output': 126,\n",
       "  'cache_write': 0,\n",
       "  'cache_read': 0}}"
      ]
     },
     "execution_count": 5,
     "metadata": {},
     "output_type": "execute_result"
    }
   ],
   "source": [
    "claude_cost_cal.calculate_cost(\"/Users/yangkc/working/llm/llm_domain_classification/data/intermediate/raw_responses/anthropic/claude-3-7-sonnet-20250219/yorkshirepost.co.uk.txt\")"
   ]
  },
  {
   "cell_type": "code",
   "execution_count": 6,
   "id": "8b9e61ff-dc3c-4e4c-a989-d9da2b08d8b2",
   "metadata": {},
   "outputs": [],
   "source": [
    "grok_3_beta_df = pd.read_parquet(\"/Users/yangkc/working/llm/llm_domain_classification/data/intermediate/parsed_responses/xai/grok-3-mini-beta.parquet\")"
   ]
  },
  {
   "cell_type": "code",
   "execution_count": 7,
   "id": "a7a63aad-3f3e-4fda-81bc-c8bdaffe5ba1",
   "metadata": {},
   "outputs": [
    {
     "data": {
      "text/html": [
       "<div>\n",
       "<style scoped>\n",
       "    .dataframe tbody tr th:only-of-type {\n",
       "        vertical-align: middle;\n",
       "    }\n",
       "\n",
       "    .dataframe tbody tr th {\n",
       "        vertical-align: top;\n",
       "    }\n",
       "\n",
       "    .dataframe thead th {\n",
       "        text-align: right;\n",
       "    }\n",
       "</style>\n",
       "<table border=\"1\" class=\"dataframe\">\n",
       "  <thead>\n",
       "    <tr style=\"text-align: right;\">\n",
       "      <th></th>\n",
       "      <th>rating</th>\n",
       "      <th>domain</th>\n",
       "      <th>explanation</th>\n",
       "      <th>cost</th>\n",
       "      <th>input_token_count</th>\n",
       "      <th>output_token_count</th>\n",
       "      <th>reasoning_token_count</th>\n",
       "      <th>provider</th>\n",
       "      <th>model</th>\n",
       "    </tr>\n",
       "  </thead>\n",
       "  <tbody>\n",
       "    <tr>\n",
       "      <th>0</th>\n",
       "      <td>-0.8</td>\n",
       "      <td>frankspeech.com</td>\n",
       "      <td>FrankSpeech.com is linked to Mike Lindell and ...</td>\n",
       "      <td>0.000098</td>\n",
       "      <td>222</td>\n",
       "      <td>62</td>\n",
       "      <td>508</td>\n",
       "      <td>xai</td>\n",
       "      <td>grok-3-mini-beta</td>\n",
       "    </tr>\n",
       "    <tr>\n",
       "      <th>1</th>\n",
       "      <td>-1.0</td>\n",
       "      <td>oaoa.com</td>\n",
       "      <td>I have no knowledge of oaoa.com, as it does no...</td>\n",
       "      <td>0.000101</td>\n",
       "      <td>222</td>\n",
       "      <td>68</td>\n",
       "      <td>485</td>\n",
       "      <td>xai</td>\n",
       "      <td>grok-3-mini-beta</td>\n",
       "    </tr>\n",
       "    <tr>\n",
       "      <th>2</th>\n",
       "      <td>0.7</td>\n",
       "      <td>wtol.com</td>\n",
       "      <td>WTOL.com is a legitimate local news website af...</td>\n",
       "      <td>0.000097</td>\n",
       "      <td>221</td>\n",
       "      <td>61</td>\n",
       "      <td>464</td>\n",
       "      <td>xai</td>\n",
       "      <td>grok-3-mini-beta</td>\n",
       "    </tr>\n",
       "    <tr>\n",
       "      <th>3</th>\n",
       "      <td>0.7</td>\n",
       "      <td>niagara-gazette.com</td>\n",
       "      <td>Niagara-gazette.com is the website of the Niag...</td>\n",
       "      <td>0.000103</td>\n",
       "      <td>224</td>\n",
       "      <td>72</td>\n",
       "      <td>578</td>\n",
       "      <td>xai</td>\n",
       "      <td>grok-3-mini-beta</td>\n",
       "    </tr>\n",
       "    <tr>\n",
       "      <th>4</th>\n",
       "      <td>0.8</td>\n",
       "      <td>wbaltv.com</td>\n",
       "      <td>WBAL-TV is a well-established local news stati...</td>\n",
       "      <td>0.000102</td>\n",
       "      <td>222</td>\n",
       "      <td>70</td>\n",
       "      <td>471</td>\n",
       "      <td>xai</td>\n",
       "      <td>grok-3-mini-beta</td>\n",
       "    </tr>\n",
       "    <tr>\n",
       "      <th>...</th>\n",
       "      <td>...</td>\n",
       "      <td>...</td>\n",
       "      <td>...</td>\n",
       "      <td>...</td>\n",
       "      <td>...</td>\n",
       "      <td>...</td>\n",
       "      <td>...</td>\n",
       "      <td>...</td>\n",
       "      <td>...</td>\n",
       "    </tr>\n",
       "    <tr>\n",
       "      <th>5648</th>\n",
       "      <td>0.8</td>\n",
       "      <td>bangkokpost.com</td>\n",
       "      <td>Bangkok Post is a well-established English-lan...</td>\n",
       "      <td>0.000097</td>\n",
       "      <td>222</td>\n",
       "      <td>61</td>\n",
       "      <td>484</td>\n",
       "      <td>xai</td>\n",
       "      <td>grok-3-mini-beta</td>\n",
       "    </tr>\n",
       "    <tr>\n",
       "      <th>5649</th>\n",
       "      <td>0.7</td>\n",
       "      <td>courier-tribune.com</td>\n",
       "      <td>Courier-Tribune.com is a local newspaper based...</td>\n",
       "      <td>0.000102</td>\n",
       "      <td>222</td>\n",
       "      <td>70</td>\n",
       "      <td>534</td>\n",
       "      <td>xai</td>\n",
       "      <td>grok-3-mini-beta</td>\n",
       "    </tr>\n",
       "    <tr>\n",
       "      <th>5650</th>\n",
       "      <td>0.9</td>\n",
       "      <td>fox5atlanta.com</td>\n",
       "      <td>FOX 5 Atlanta is a well-established local news...</td>\n",
       "      <td>0.000101</td>\n",
       "      <td>223</td>\n",
       "      <td>68</td>\n",
       "      <td>548</td>\n",
       "      <td>xai</td>\n",
       "      <td>grok-3-mini-beta</td>\n",
       "    </tr>\n",
       "    <tr>\n",
       "      <th>5651</th>\n",
       "      <td>0.9</td>\n",
       "      <td>thieme.de</td>\n",
       "      <td>Thieme.de is the official website of Thieme Gr...</td>\n",
       "      <td>0.000100</td>\n",
       "      <td>221</td>\n",
       "      <td>67</td>\n",
       "      <td>533</td>\n",
       "      <td>xai</td>\n",
       "      <td>grok-3-mini-beta</td>\n",
       "    </tr>\n",
       "    <tr>\n",
       "      <th>5652</th>\n",
       "      <td>0.7</td>\n",
       "      <td>siliconvalley.com</td>\n",
       "      <td>Siliconvalley.com is a recognized technology n...</td>\n",
       "      <td>0.000101</td>\n",
       "      <td>222</td>\n",
       "      <td>69</td>\n",
       "      <td>685</td>\n",
       "      <td>xai</td>\n",
       "      <td>grok-3-mini-beta</td>\n",
       "    </tr>\n",
       "  </tbody>\n",
       "</table>\n",
       "<p>5653 rows × 9 columns</p>\n",
       "</div>"
      ],
      "text/plain": [
       "      rating               domain  \\\n",
       "0       -0.8      frankspeech.com   \n",
       "1       -1.0             oaoa.com   \n",
       "2        0.7             wtol.com   \n",
       "3        0.7  niagara-gazette.com   \n",
       "4        0.8           wbaltv.com   \n",
       "...      ...                  ...   \n",
       "5648     0.8      bangkokpost.com   \n",
       "5649     0.7  courier-tribune.com   \n",
       "5650     0.9      fox5atlanta.com   \n",
       "5651     0.9            thieme.de   \n",
       "5652     0.7    siliconvalley.com   \n",
       "\n",
       "                                            explanation      cost  \\\n",
       "0     FrankSpeech.com is linked to Mike Lindell and ...  0.000098   \n",
       "1     I have no knowledge of oaoa.com, as it does no...  0.000101   \n",
       "2     WTOL.com is a legitimate local news website af...  0.000097   \n",
       "3     Niagara-gazette.com is the website of the Niag...  0.000103   \n",
       "4     WBAL-TV is a well-established local news stati...  0.000102   \n",
       "...                                                 ...       ...   \n",
       "5648  Bangkok Post is a well-established English-lan...  0.000097   \n",
       "5649  Courier-Tribune.com is a local newspaper based...  0.000102   \n",
       "5650  FOX 5 Atlanta is a well-established local news...  0.000101   \n",
       "5651  Thieme.de is the official website of Thieme Gr...  0.000100   \n",
       "5652  Siliconvalley.com is a recognized technology n...  0.000101   \n",
       "\n",
       "      input_token_count  output_token_count  reasoning_token_count provider  \\\n",
       "0                   222                  62                    508      xai   \n",
       "1                   222                  68                    485      xai   \n",
       "2                   221                  61                    464      xai   \n",
       "3                   224                  72                    578      xai   \n",
       "4                   222                  70                    471      xai   \n",
       "...                 ...                 ...                    ...      ...   \n",
       "5648                222                  61                    484      xai   \n",
       "5649                222                  70                    534      xai   \n",
       "5650                223                  68                    548      xai   \n",
       "5651                221                  67                    533      xai   \n",
       "5652                222                  69                    685      xai   \n",
       "\n",
       "                 model  \n",
       "0     grok-3-mini-beta  \n",
       "1     grok-3-mini-beta  \n",
       "2     grok-3-mini-beta  \n",
       "3     grok-3-mini-beta  \n",
       "4     grok-3-mini-beta  \n",
       "...                ...  \n",
       "5648  grok-3-mini-beta  \n",
       "5649  grok-3-mini-beta  \n",
       "5650  grok-3-mini-beta  \n",
       "5651  grok-3-mini-beta  \n",
       "5652  grok-3-mini-beta  \n",
       "\n",
       "[5653 rows x 9 columns]"
      ]
     },
     "execution_count": 7,
     "metadata": {},
     "output_type": "execute_result"
    }
   ],
   "source": [
    "grok_3_beta_df"
   ]
  },
  {
   "cell_type": "code",
   "execution_count": 8,
   "id": "9648965b-5caa-4af9-a848-669efbe01c91",
   "metadata": {},
   "outputs": [],
   "source": [
    "grok_3_df = pd.read_parquet(\"/Users/yangkc/working/llm/llm_domain_classification/data/intermediate/parsed_responses/xai/grok-3-beta.parquet\")"
   ]
  },
  {
   "cell_type": "code",
   "execution_count": 9,
   "id": "d0461f12-5f4e-4b36-8078-43526cb6ad00",
   "metadata": {},
   "outputs": [
    {
     "data": {
      "text/html": [
       "<div>\n",
       "<style scoped>\n",
       "    .dataframe tbody tr th:only-of-type {\n",
       "        vertical-align: middle;\n",
       "    }\n",
       "\n",
       "    .dataframe tbody tr th {\n",
       "        vertical-align: top;\n",
       "    }\n",
       "\n",
       "    .dataframe thead th {\n",
       "        text-align: right;\n",
       "    }\n",
       "</style>\n",
       "<table border=\"1\" class=\"dataframe\">\n",
       "  <thead>\n",
       "    <tr style=\"text-align: right;\">\n",
       "      <th></th>\n",
       "      <th>rating</th>\n",
       "      <th>domain</th>\n",
       "      <th>explanation</th>\n",
       "      <th>cost</th>\n",
       "      <th>input_token_count</th>\n",
       "      <th>output_token_count</th>\n",
       "      <th>reasoning_token_count</th>\n",
       "      <th>provider</th>\n",
       "      <th>model</th>\n",
       "    </tr>\n",
       "  </thead>\n",
       "  <tbody>\n",
       "    <tr>\n",
       "      <th>0</th>\n",
       "      <td>0.2</td>\n",
       "      <td>frankspeech.com</td>\n",
       "      <td>FrankSpeech.com is a platform associated with ...</td>\n",
       "      <td>0.002013</td>\n",
       "      <td>221</td>\n",
       "      <td>90</td>\n",
       "      <td>0</td>\n",
       "      <td>xai</td>\n",
       "      <td>grok-3-beta</td>\n",
       "    </tr>\n",
       "    <tr>\n",
       "      <th>1</th>\n",
       "      <td>0.6</td>\n",
       "      <td>oaoa.com</td>\n",
       "      <td>The website oaoa.com is the online presence of...</td>\n",
       "      <td>0.002328</td>\n",
       "      <td>221</td>\n",
       "      <td>111</td>\n",
       "      <td>0</td>\n",
       "      <td>xai</td>\n",
       "      <td>grok-3-beta</td>\n",
       "    </tr>\n",
       "    <tr>\n",
       "      <th>2</th>\n",
       "      <td>0.8</td>\n",
       "      <td>wtol.com</td>\n",
       "      <td>WTOL.com is the website for WTOL 11, a local n...</td>\n",
       "      <td>0.002550</td>\n",
       "      <td>220</td>\n",
       "      <td>126</td>\n",
       "      <td>0</td>\n",
       "      <td>xai</td>\n",
       "      <td>grok-3-beta</td>\n",
       "    </tr>\n",
       "    <tr>\n",
       "      <th>3</th>\n",
       "      <td>0.7</td>\n",
       "      <td>niagara-gazette.com</td>\n",
       "      <td>Niagara-Gazette.com is the online presence of ...</td>\n",
       "      <td>0.002529</td>\n",
       "      <td>223</td>\n",
       "      <td>124</td>\n",
       "      <td>0</td>\n",
       "      <td>xai</td>\n",
       "      <td>grok-3-beta</td>\n",
       "    </tr>\n",
       "    <tr>\n",
       "      <th>4</th>\n",
       "      <td>0.8</td>\n",
       "      <td>wbaltv.com</td>\n",
       "      <td>WBALTV.com is the website for WBAL-TV, a local...</td>\n",
       "      <td>0.002283</td>\n",
       "      <td>221</td>\n",
       "      <td>108</td>\n",
       "      <td>0</td>\n",
       "      <td>xai</td>\n",
       "      <td>grok-3-beta</td>\n",
       "    </tr>\n",
       "    <tr>\n",
       "      <th>...</th>\n",
       "      <td>...</td>\n",
       "      <td>...</td>\n",
       "      <td>...</td>\n",
       "      <td>...</td>\n",
       "      <td>...</td>\n",
       "      <td>...</td>\n",
       "      <td>...</td>\n",
       "      <td>...</td>\n",
       "      <td>...</td>\n",
       "    </tr>\n",
       "    <tr>\n",
       "      <th>5648</th>\n",
       "      <td>0.8</td>\n",
       "      <td>bangkokpost.com</td>\n",
       "      <td>Bangkok Post is a well-established English-lan...</td>\n",
       "      <td>0.002163</td>\n",
       "      <td>221</td>\n",
       "      <td>100</td>\n",
       "      <td>0</td>\n",
       "      <td>xai</td>\n",
       "      <td>grok-3-beta</td>\n",
       "    </tr>\n",
       "    <tr>\n",
       "      <th>5649</th>\n",
       "      <td>0.7</td>\n",
       "      <td>courier-tribune.com</td>\n",
       "      <td>Courier-Tribune.com is the online presence of ...</td>\n",
       "      <td>0.002778</td>\n",
       "      <td>221</td>\n",
       "      <td>141</td>\n",
       "      <td>0</td>\n",
       "      <td>xai</td>\n",
       "      <td>grok-3-beta</td>\n",
       "    </tr>\n",
       "    <tr>\n",
       "      <th>5650</th>\n",
       "      <td>0.7</td>\n",
       "      <td>fox5atlanta.com</td>\n",
       "      <td>Fox5atlanta.com is the website for FOX 5 Atlan...</td>\n",
       "      <td>0.002811</td>\n",
       "      <td>222</td>\n",
       "      <td>143</td>\n",
       "      <td>0</td>\n",
       "      <td>xai</td>\n",
       "      <td>grok-3-beta</td>\n",
       "    </tr>\n",
       "    <tr>\n",
       "      <th>5651</th>\n",
       "      <td>0.9</td>\n",
       "      <td>thieme.de</td>\n",
       "      <td>Thieme.de is the official website of Thieme Gr...</td>\n",
       "      <td>0.002130</td>\n",
       "      <td>220</td>\n",
       "      <td>98</td>\n",
       "      <td>0</td>\n",
       "      <td>xai</td>\n",
       "      <td>grok-3-beta</td>\n",
       "    </tr>\n",
       "    <tr>\n",
       "      <th>5652</th>\n",
       "      <td>0.8</td>\n",
       "      <td>siliconvalley.com</td>\n",
       "      <td>SiliconValley.com is a credible source for tec...</td>\n",
       "      <td>0.002223</td>\n",
       "      <td>221</td>\n",
       "      <td>104</td>\n",
       "      <td>0</td>\n",
       "      <td>xai</td>\n",
       "      <td>grok-3-beta</td>\n",
       "    </tr>\n",
       "  </tbody>\n",
       "</table>\n",
       "<p>5653 rows × 9 columns</p>\n",
       "</div>"
      ],
      "text/plain": [
       "      rating               domain  \\\n",
       "0        0.2      frankspeech.com   \n",
       "1        0.6             oaoa.com   \n",
       "2        0.8             wtol.com   \n",
       "3        0.7  niagara-gazette.com   \n",
       "4        0.8           wbaltv.com   \n",
       "...      ...                  ...   \n",
       "5648     0.8      bangkokpost.com   \n",
       "5649     0.7  courier-tribune.com   \n",
       "5650     0.7      fox5atlanta.com   \n",
       "5651     0.9            thieme.de   \n",
       "5652     0.8    siliconvalley.com   \n",
       "\n",
       "                                            explanation      cost  \\\n",
       "0     FrankSpeech.com is a platform associated with ...  0.002013   \n",
       "1     The website oaoa.com is the online presence of...  0.002328   \n",
       "2     WTOL.com is the website for WTOL 11, a local n...  0.002550   \n",
       "3     Niagara-Gazette.com is the online presence of ...  0.002529   \n",
       "4     WBALTV.com is the website for WBAL-TV, a local...  0.002283   \n",
       "...                                                 ...       ...   \n",
       "5648  Bangkok Post is a well-established English-lan...  0.002163   \n",
       "5649  Courier-Tribune.com is the online presence of ...  0.002778   \n",
       "5650  Fox5atlanta.com is the website for FOX 5 Atlan...  0.002811   \n",
       "5651  Thieme.de is the official website of Thieme Gr...  0.002130   \n",
       "5652  SiliconValley.com is a credible source for tec...  0.002223   \n",
       "\n",
       "      input_token_count  output_token_count  reasoning_token_count provider  \\\n",
       "0                   221                  90                      0      xai   \n",
       "1                   221                 111                      0      xai   \n",
       "2                   220                 126                      0      xai   \n",
       "3                   223                 124                      0      xai   \n",
       "4                   221                 108                      0      xai   \n",
       "...                 ...                 ...                    ...      ...   \n",
       "5648                221                 100                      0      xai   \n",
       "5649                221                 141                      0      xai   \n",
       "5650                222                 143                      0      xai   \n",
       "5651                220                  98                      0      xai   \n",
       "5652                221                 104                      0      xai   \n",
       "\n",
       "            model  \n",
       "0     grok-3-beta  \n",
       "1     grok-3-beta  \n",
       "2     grok-3-beta  \n",
       "3     grok-3-beta  \n",
       "4     grok-3-beta  \n",
       "...           ...  \n",
       "5648  grok-3-beta  \n",
       "5649  grok-3-beta  \n",
       "5650  grok-3-beta  \n",
       "5651  grok-3-beta  \n",
       "5652  grok-3-beta  \n",
       "\n",
       "[5653 rows x 9 columns]"
      ]
     },
     "execution_count": 9,
     "metadata": {},
     "output_type": "execute_result"
    }
   ],
   "source": [
    "grok_3_df"
   ]
  }
 ],
 "metadata": {
  "kernelspec": {
   "display_name": "Python 3 (ipykernel)",
   "language": "python",
   "name": "python3"
  },
  "language_info": {
   "codemirror_mode": {
    "name": "ipython",
    "version": 3
   },
   "file_extension": ".py",
   "mimetype": "text/x-python",
   "name": "python",
   "nbconvert_exporter": "python",
   "pygments_lexer": "ipython3",
   "version": "3.12.10"
  }
 },
 "nbformat": 4,
 "nbformat_minor": 5
}

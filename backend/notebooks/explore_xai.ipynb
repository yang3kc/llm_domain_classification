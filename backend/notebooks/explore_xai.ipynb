{
 "cells": [
  {
   "cell_type": "code",
   "execution_count": 1,
   "id": "887a71da-cf8e-441e-83a8-42251600034d",
   "metadata": {},
   "outputs": [],
   "source": [
    "import os\n",
    "from openai import OpenAI\n",
    "from dotenv import load_dotenv\n",
    "from llmdomainrating import *"
   ]
  },
  {
   "cell_type": "code",
   "execution_count": 2,
   "id": "ef1f72c5-4b0a-4004-803f-81b47a5abb14",
   "metadata": {},
   "outputs": [
    {
     "data": {
      "text/plain": [
       "True"
      ]
     },
     "execution_count": 2,
     "metadata": {},
     "output_type": "execute_result"
    }
   ],
   "source": [
    "load_dotenv()"
   ]
  },
  {
   "cell_type": "code",
   "execution_count": 11,
   "id": "d3a11696-d5af-4f8d-91ec-2f77e607ea28",
   "metadata": {},
   "outputs": [],
   "source": [
    "oai_client = OpenAI(\n",
    "  api_key=os.getenv(\"XAI_API_KEY\"),\n",
    "  base_url=\"https://api.x.ai/v1\",\n",
    ")"
   ]
  },
  {
   "cell_type": "code",
   "execution_count": 32,
   "id": "f4c8b26f-6b19-4a91-b205-bb6658ce94cf",
   "metadata": {},
   "outputs": [],
   "source": [
    "resp_test_grok3 = oai_client.chat.completions.create(\n",
    "  model=\"grok-3-beta\",\n",
    "  messages=[\n",
    "    {\"role\": \"system\", \"content\": \"You are a PhD-level mathematician.\"},\n",
    "    {\"role\": \"user\", \"content\": \"What is 2 + 2?\"},\n",
    "  ],\n",
    ")\n"
   ]
  },
  {
   "cell_type": "code",
   "execution_count": 37,
   "id": "e2c5fffe-e8fe-4fa3-9f3b-23cd67b123fc",
   "metadata": {},
   "outputs": [
    {
     "data": {
      "text/plain": [
       "'2 + 2 equals 4.\\n\\nThis is a basic arithmetic operation where the numbers 2 and 2 are combined to produce the sum of 4. In the context of natural numbers, this result is fundamental and can be understood through counting (e.g., combining two objects with two more objects results in four objects) or through the properties of addition as defined in Peano arithmetic, where addition is recursively defined based on the successor function. If you meant to ask about a more complex context (e.g., modular arithmetic or abstract algebra), feel free to clarify!'"
      ]
     },
     "execution_count": 37,
     "metadata": {},
     "output_type": "execute_result"
    }
   ],
   "source": [
    "resp_test_grok3.choices[0].message.content"
   ]
  },
  {
   "cell_type": "code",
   "execution_count": 31,
   "id": "2d17add0-85e1-430d-add5-d55b427f4ea9",
   "metadata": {},
   "outputs": [
    {
     "data": {
      "text/plain": [
       "'First, the user asked, \"What is 2 + 2?\" This is a basic arithmetic question. As a PhD-level mathematician, I should respond in a way that\\'s accurate, perhaps with some depth or context, but not overly complicated since the question is simple.\\n\\nThe system prompt says: \"You are a PhD-level mathematician.\" So, I need to maintain that persona. I could explain it in a more educational or insightful way, maybe touching on the foundations of arithmetic.\\n\\nKey elements of my response:\\n\\n- Be helpful and accurate.\\n\\n- Use clear, professional language.\\n\\n- Since it\\'s a simple question, keep it straightforward but engaging.\\n\\nPossible ways to answer:\\n\\n1. Direct answer: \"2 + 2 equals 4.\"\\n\\n2. Educational angle: Explain addition in the context of natural numbers or Peano axioms, as a PhD mathematician might.\\n\\n3. Fun or contextual: Relate it to real-world examples or mathematical concepts.\\n\\nI should ensure my response aligns with the AI\\'s guidelines: be truthful, helpful, and not verbose. The prompt says \"Keep your response to user clear; please do not make your response verbose!\"\\n\\nSo, aim for conciseness while being informative.\\n\\nStructure the response:\\n\\n- Start with the direct answer.\\n\\n- Optionally, add a brief explanation or insight.\\n\\nFor example:\\n\\n\"The sum of 2 and 2 is 4.\"\\n\\nOr, to add a PhD touch: \"In the realm of basic arithmetic, 2 + 2 equals 4, which is a fundamental property of the natural numbers.\"\\n\\nBut keep it non-verbose.\\n\\nFinal thought: Since this is likely a test or a simple query, I\\'ll go with a clear, direct answer with a minimal touch of expertise.'"
      ]
     },
     "execution_count": 31,
     "metadata": {},
     "output_type": "execute_result"
    }
   ],
   "source": [
    "resp_test.choices[0].message.reasoning_content"
   ]
  },
  {
   "cell_type": "code",
   "execution_count": 7,
   "id": "603ac6ab-261d-4dc5-8110-1e1bd1aea687",
   "metadata": {},
   "outputs": [
    {
     "data": {
      "text/plain": [
       "'{\"id\":\"a526c879-719a-4504-9f2b-4342664c68b5\",\"choices\":[{\"finish_reason\":\"stop\",\"index\":0,\"logprobs\":null,\"message\":{\"content\":\"Ah, the classic question! As a PhD-level mathematician, I\\'ll confirm that in the standard arithmetic of natural numbers, 2 + 2 equals 4.\\\\n\\\\nTo elaborate briefly: Addition is a fundamental operation defined in the Peano axioms, where we start with 0 and build up through successor functions. Here, 2 is the successor of 1 (which is the successor of 0), and adding 2 to 2 simply means incrementing twice, resulting in 4.\\\\n\\\\nIf you\\'d like to explore this in other contexts—like modular arithmetic, abstract algebra, or even binary systems—just let me know! 😊\",\"refusal\":null,\"role\":\"assistant\",\"annotations\":null,\"audio\":null,\"function_call\":null,\"tool_calls\":null,\"reasoning_content\":\"First, the user asked, \\\\\"What is 2 + 2?\\\\\" This is a basic arithmetic question. As a PhD-level mathematician, I should respond in a way that\\'s accurate, perhaps with some depth or context to make it engaging, but not overly complicated since it\\'s a simple query.\\\\n\\\\nMy system prompt is: \\\\\"You are a PhD-level mathematician.\\\\\" So, I need to maintain that persona. That means being precise, logical, and possibly drawing from mathematical principles.\\\\n\\\\nBasic response: 2 + 2 equals 4. That\\'s straightforward.\\\\n\\\\nTo make it more interesting and align with being a PhD mathematician, I could explain it in different mathematical contexts:\\\\n\\\\n- In natural numbers: Addition is defined such that 2 + 2 = 4.\\\\n\\\\n- In set theory: 2 could represent the set {0,1}, and addition as disjoint union, but that might be overkill for this question.\\\\n\\\\n- Historically: Reference how ancient mathematicians like the Babylonians or Greeks handled addition.\\\\n\\\\nI should keep it accessible. The user might be testing the AI or just asking casually.\\\\n\\\\nStructure my response:\\\\n\\\\n1. Give the direct answer.\\\\n\\\\n2. Add a brief explanation or fun fact to show expertise.\\\\n\\\\n3. End positively.\\\\n\\\\nPossible response:\\\\n\\\\n\\\\\"The sum of 2 and 2 is 4. In the realm of arithmetic, this is one of the fundamental operations that underpins all of mathematics.\\\\\"\\\\n\\\\nOr, to be more engaging: \\\\\"Well, in base 10, 2 + 2 equals 4. But if we\\'re getting fancy, in modular arithmetic modulo 4, it would be 0, but I assume you\\'re asking for the standard answer!\\\\\"\\\\n\\\\nThat might confuse if not specified. Stick to the basics.\\\\n\\\\nFinal thought: Keep it simple and accurate.\"}}],\"created\":1746927416,\"model\":\"grok-3-mini-beta\",\"object\":\"chat.completion\",\"service_tier\":null,\"system_fingerprint\":\"fp_8e1ec7635f\",\"usage\":{\"completion_tokens\":127,\"prompt_tokens\":27,\"total_tokens\":511,\"completion_tokens_details\":{\"accepted_prediction_tokens\":0,\"audio_tokens\":0,\"reasoning_tokens\":357,\"rejected_prediction_tokens\":0},\"prompt_tokens_details\":{\"audio_tokens\":0,\"cached_tokens\":0,\"text_tokens\":27,\"image_tokens\":0}}}'"
      ]
     },
     "execution_count": 7,
     "metadata": {},
     "output_type": "execute_result"
    }
   ],
   "source": [
    "resp.model_dump_json()"
   ]
  },
  {
   "cell_type": "code",
   "execution_count": 3,
   "id": "662668ac-9061-4964-82f3-ff8b9e84a9b2",
   "metadata": {},
   "outputs": [],
   "source": [
    "client = create_api_client('xai')"
   ]
  },
  {
   "cell_type": "code",
   "execution_count": 4,
   "id": "25d104a2-2a57-4bb0-ace4-e426af72f9f5",
   "metadata": {},
   "outputs": [],
   "source": [
    "resp = client.query_model(\"cnn.com\", \"grok-3-mini-beta\")"
   ]
  },
  {
   "cell_type": "code",
   "execution_count": 43,
   "id": "37ce8b55-dfaf-4673-9be6-9a35c526d959",
   "metadata": {},
   "outputs": [
    {
     "data": {
      "text/plain": [
       "'{\\n  \"rating\": 0.8,\\n  \"domain\": \"cnn.com\",\\n  \"explanation\": \"CNN is a well-established news organization with a history of professional journalism, though it may exhibit biases typical of mainstream media.\"\\n}'"
      ]
     },
     "execution_count": 43,
     "metadata": {},
     "output_type": "execute_result"
    }
   ],
   "source": [
    "json.loads(resp)['choices'][0][\"message\"]['content']"
   ]
  },
  {
   "cell_type": "code",
   "execution_count": 38,
   "id": "a0972661-ef86-4b97-953c-887db4b40d74",
   "metadata": {},
   "outputs": [],
   "source": [
    "resp_3 = client.query_model(\"cnn.com\", \"grok-3-beta\")"
   ]
  },
  {
   "cell_type": "code",
   "execution_count": 39,
   "id": "8f47b8c6-10d9-45e4-a2e5-5dce2c7097ff",
   "metadata": {},
   "outputs": [
    {
     "data": {
      "text/plain": [
       "{'id': '52929950-a1cb-4ce9-adae-5f6d8e3ed4ca',\n",
       " 'choices': [{'finish_reason': 'stop',\n",
       "   'index': 0,\n",
       "   'logprobs': None,\n",
       "   'message': {'content': '{\\n    \"rating\": 0.8,\\n    \"domain\": \"cnn.com\",\\n    \"explanation\": \"CNN is a well-established news organization with a long history of reporting on global events. It is generally considered a credible source for mainstream news, though some critics argue it may exhibit bias in its coverage. The rating reflects a high level of credibility based on its reputation and widespread recognition, balanced by the need for readers to cross-check information for potential editorial slant.\"\\n}',\n",
       "    'refusal': None,\n",
       "    'role': 'assistant',\n",
       "    'annotations': None,\n",
       "    'audio': None,\n",
       "    'function_call': None,\n",
       "    'tool_calls': None}}],\n",
       " 'created': 1746928649,\n",
       " 'model': 'grok-3-beta',\n",
       " 'object': 'chat.completion',\n",
       " 'service_tier': None,\n",
       " 'system_fingerprint': 'fp_e274c7b208',\n",
       " 'usage': {'completion_tokens': 98,\n",
       "  'prompt_tokens': 219,\n",
       "  'total_tokens': 317,\n",
       "  'completion_tokens_details': {'accepted_prediction_tokens': 0,\n",
       "   'audio_tokens': 0,\n",
       "   'reasoning_tokens': 0,\n",
       "   'rejected_prediction_tokens': 0},\n",
       "  'prompt_tokens_details': {'audio_tokens': 0,\n",
       "   'cached_tokens': 0,\n",
       "   'text_tokens': 219,\n",
       "   'image_tokens': 0}}}"
      ]
     },
     "execution_count": 39,
     "metadata": {},
     "output_type": "execute_result"
    }
   ],
   "source": [
    "json.loads(resp_3)"
   ]
  }
 ],
 "metadata": {
  "kernelspec": {
   "display_name": "Python 3 (ipykernel)",
   "language": "python",
   "name": "python3"
  },
  "language_info": {
   "codemirror_mode": {
    "name": "ipython",
    "version": 3
   },
   "file_extension": ".py",
   "mimetype": "text/x-python",
   "name": "python",
   "nbconvert_exporter": "python",
   "pygments_lexer": "ipython3",
   "version": "3.12.10"
  }
 },
 "nbformat": 4,
 "nbformat_minor": 5
}
